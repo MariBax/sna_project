{
  "nbformat": 4,
  "nbformat_minor": 0,
  "metadata": {
    "colab": {
      "name": "json_parsing.ipynb",
      "provenance": [],
      "collapsed_sections": []
    },
    "kernelspec": {
      "name": "python3",
      "display_name": "Python 3"
    }
  },
  "cells": [
    {
      "cell_type": "code",
      "metadata": {
        "id": "aw1j1bFn92xQ",
        "colab_type": "code",
        "colab": {
          "base_uri": "https://localhost:8080/",
          "height": 34
        },
        "outputId": "1aabd698-97a9-4a12-f0ca-946a667c5c8c"
      },
      "source": [
        "from google.colab import drive\n",
        "drive.mount('/content/drive')"
      ],
      "execution_count": 4,
      "outputs": [
        {
          "output_type": "stream",
          "text": [
            "Drive already mounted at /content/drive; to attempt to forcibly remount, call drive.mount(\"/content/drive\", force_remount=True).\n"
          ],
          "name": "stdout"
        }
      ]
    },
    {
      "cell_type": "code",
      "metadata": {
        "id": "nQ-P9pVshE5T",
        "colab_type": "code",
        "colab": {}
      },
      "source": [
        "import json\n",
        "import codecs\n",
        "import pandas as pd\n",
        "from tqdm import tqdm"
      ],
      "execution_count": 5,
      "outputs": []
    },
    {
      "cell_type": "code",
      "metadata": {
        "id": "u2Asje29kIcN",
        "colab_type": "code",
        "colab": {}
      },
      "source": [
        "posts = json.load(codecs.open('/content/drive/My Drive/Angl/Posts.json', 'r', 'utf-8-sig'))"
      ],
      "execution_count": 8,
      "outputs": []
    },
    {
      "cell_type": "code",
      "metadata": {
        "id": "xwWxEgx8oDAw",
        "colab_type": "code",
        "colab": {
          "base_uri": "https://localhost:8080/",
          "height": 34
        },
        "outputId": "ed3e49db-c333-49c7-d7d5-6f8402202225"
      },
      "source": [
        "len(posts)"
      ],
      "execution_count": 9,
      "outputs": [
        {
          "output_type": "execute_result",
          "data": {
            "text/plain": [
              "53800"
            ]
          },
          "metadata": {
            "tags": []
          },
          "execution_count": 9
        }
      ]
    },
    {
      "cell_type": "code",
      "metadata": {
        "id": "CY8HJDzXoGVH",
        "colab_type": "code",
        "colab": {}
      },
      "source": [
        "data = pd.DataFrame(columns=['AuthorID', \n",
        "                             'OwnerID',\n",
        "                             'CreatedDate',\n",
        "                             'SearchQuery',\n",
        "                             'AuthorType',\n",
        "                             'OwnerType',\n",
        "                             ])"
      ],
      "execution_count": 10,
      "outputs": []
    },
    {
      "cell_type": "code",
      "metadata": {
        "id": "gAK0Hqjnoj4C",
        "colab_type": "code",
        "colab": {
          "base_uri": "https://localhost:8080/",
          "height": 34
        },
        "outputId": "ea40f10f-ccaf-4b36-8407-74d085b441ab"
      },
      "source": [
        "for post in tqdm(posts):\n",
        "    if '-' in post['AuthorID']:\n",
        "        author_type = 0 # group\n",
        "    else:\n",
        "        author_type = 1 # user\n",
        "\n",
        "    if '-' in post['OwnerID']:\n",
        "        owner_type = 0 # group\n",
        "    else:\n",
        "        owner_type = 1 # user\n",
        "\n",
        "    info = {'AuthorID': post['AuthorID'], \n",
        "            'OwnerID': post['OwnerID'],\n",
        "            'CreatedDate': post['CreatedDate'][:10], # 'yyyy-mm-dd'\n",
        "            'SearchQuery': post['Snippets'][0]['SearchQuery'],\n",
        "            'AuthorType': author_type,\n",
        "            'OwnerType': owner_type}\n",
        "\n",
        "    # print(info)\n",
        "    \n",
        "    data = data.append(info, ignore_index=True)    "
      ],
      "execution_count": 11,
      "outputs": [
        {
          "output_type": "stream",
          "text": [
            "100%|██████████| 53800/53800 [08:40<00:00, 103.30it/s]\n"
          ],
          "name": "stderr"
        }
      ]
    },
    {
      "cell_type": "code",
      "metadata": {
        "id": "PcJkp944-qx0",
        "colab_type": "code",
        "colab": {}
      },
      "source": [
        "# save\n",
        "data.to_csv('/content/drive/My Drive/Angl/posts_info.csv')"
      ],
      "execution_count": 12,
      "outputs": []
    },
    {
      "cell_type": "code",
      "metadata": {
        "id": "lvue11ZVrsVE",
        "colab_type": "code",
        "colab": {
          "base_uri": "https://localhost:8080/",
          "height": 204
        },
        "outputId": "061344bd-bcbd-4783-f756-37e9ca8ca2d6"
      },
      "source": [
        "data.head()"
      ],
      "execution_count": 13,
      "outputs": [
        {
          "output_type": "execute_result",
          "data": {
            "text/html": [
              "<div>\n",
              "<style scoped>\n",
              "    .dataframe tbody tr th:only-of-type {\n",
              "        vertical-align: middle;\n",
              "    }\n",
              "\n",
              "    .dataframe tbody tr th {\n",
              "        vertical-align: top;\n",
              "    }\n",
              "\n",
              "    .dataframe thead th {\n",
              "        text-align: right;\n",
              "    }\n",
              "</style>\n",
              "<table border=\"1\" class=\"dataframe\">\n",
              "  <thead>\n",
              "    <tr style=\"text-align: right;\">\n",
              "      <th></th>\n",
              "      <th>AuthorID</th>\n",
              "      <th>OwnerID</th>\n",
              "      <th>CreatedDate</th>\n",
              "      <th>SearchQuery</th>\n",
              "      <th>AuthorType</th>\n",
              "      <th>OwnerType</th>\n",
              "    </tr>\n",
              "  </thead>\n",
              "  <tbody>\n",
              "    <tr>\n",
              "      <th>0</th>\n",
              "      <td>VK_-137472625</td>\n",
              "      <td>VK_-137472625</td>\n",
              "      <td>2020-06-16</td>\n",
              "      <td>войс</td>\n",
              "      <td>0</td>\n",
              "      <td>0</td>\n",
              "    </tr>\n",
              "    <tr>\n",
              "      <th>1</th>\n",
              "      <td>VK_-110896651</td>\n",
              "      <td>VK_-110896651</td>\n",
              "      <td>2020-06-16</td>\n",
              "      <td>войс</td>\n",
              "      <td>0</td>\n",
              "      <td>0</td>\n",
              "    </tr>\n",
              "    <tr>\n",
              "      <th>2</th>\n",
              "      <td>VK_-196351490</td>\n",
              "      <td>VK_-196351490</td>\n",
              "      <td>2020-06-15</td>\n",
              "      <td>войс</td>\n",
              "      <td>0</td>\n",
              "      <td>0</td>\n",
              "    </tr>\n",
              "    <tr>\n",
              "      <th>3</th>\n",
              "      <td>VK_-184898993</td>\n",
              "      <td>VK_-184898993</td>\n",
              "      <td>2020-06-15</td>\n",
              "      <td>войс</td>\n",
              "      <td>0</td>\n",
              "      <td>0</td>\n",
              "    </tr>\n",
              "    <tr>\n",
              "      <th>4</th>\n",
              "      <td>VK_-164251213</td>\n",
              "      <td>VK_-164251213</td>\n",
              "      <td>2020-06-15</td>\n",
              "      <td>войс</td>\n",
              "      <td>0</td>\n",
              "      <td>0</td>\n",
              "    </tr>\n",
              "  </tbody>\n",
              "</table>\n",
              "</div>"
            ],
            "text/plain": [
              "        AuthorID        OwnerID CreatedDate SearchQuery AuthorType OwnerType\n",
              "0  VK_-137472625  VK_-137472625  2020-06-16        войс          0         0\n",
              "1  VK_-110896651  VK_-110896651  2020-06-16        войс          0         0\n",
              "2  VK_-196351490  VK_-196351490  2020-06-15        войс          0         0\n",
              "3  VK_-184898993  VK_-184898993  2020-06-15        войс          0         0\n",
              "4  VK_-164251213  VK_-164251213  2020-06-15        войс          0         0"
            ]
          },
          "metadata": {
            "tags": []
          },
          "execution_count": 13
        }
      ]
    },
    {
      "cell_type": "code",
      "metadata": {
        "id": "qAxTme9ilKFR",
        "colab_type": "code",
        "colab": {
          "base_uri": "https://localhost:8080/",
          "height": 204
        },
        "outputId": "a450625a-9a3a-40ec-9ef7-f3ef2da41d16"
      },
      "source": [
        "data.tail()"
      ],
      "execution_count": 14,
      "outputs": [
        {
          "output_type": "execute_result",
          "data": {
            "text/html": [
              "<div>\n",
              "<style scoped>\n",
              "    .dataframe tbody tr th:only-of-type {\n",
              "        vertical-align: middle;\n",
              "    }\n",
              "\n",
              "    .dataframe tbody tr th {\n",
              "        vertical-align: top;\n",
              "    }\n",
              "\n",
              "    .dataframe thead th {\n",
              "        text-align: right;\n",
              "    }\n",
              "</style>\n",
              "<table border=\"1\" class=\"dataframe\">\n",
              "  <thead>\n",
              "    <tr style=\"text-align: right;\">\n",
              "      <th></th>\n",
              "      <th>AuthorID</th>\n",
              "      <th>OwnerID</th>\n",
              "      <th>CreatedDate</th>\n",
              "      <th>SearchQuery</th>\n",
              "      <th>AuthorType</th>\n",
              "      <th>OwnerType</th>\n",
              "    </tr>\n",
              "  </thead>\n",
              "  <tbody>\n",
              "    <tr>\n",
              "      <th>53795</th>\n",
              "      <td>VK_-164193141</td>\n",
              "      <td>VK_-164193141</td>\n",
              "      <td>2020-06-09</td>\n",
              "      <td>мазер</td>\n",
              "      <td>0</td>\n",
              "      <td>0</td>\n",
              "    </tr>\n",
              "    <tr>\n",
              "      <th>53796</th>\n",
              "      <td>VK_-49207913</td>\n",
              "      <td>VK_-49207913</td>\n",
              "      <td>2020-06-09</td>\n",
              "      <td>мазер</td>\n",
              "      <td>0</td>\n",
              "      <td>0</td>\n",
              "    </tr>\n",
              "    <tr>\n",
              "      <th>53797</th>\n",
              "      <td>VK_153549451</td>\n",
              "      <td>VK_153549451</td>\n",
              "      <td>2020-06-09</td>\n",
              "      <td>мазер</td>\n",
              "      <td>1</td>\n",
              "      <td>1</td>\n",
              "    </tr>\n",
              "    <tr>\n",
              "      <th>53798</th>\n",
              "      <td>VK_320517396</td>\n",
              "      <td>VK_320517396</td>\n",
              "      <td>2020-06-09</td>\n",
              "      <td>мазер</td>\n",
              "      <td>1</td>\n",
              "      <td>1</td>\n",
              "    </tr>\n",
              "    <tr>\n",
              "      <th>53799</th>\n",
              "      <td>VK_-182525523</td>\n",
              "      <td>VK_-182525523</td>\n",
              "      <td>2020-06-09</td>\n",
              "      <td>мазер</td>\n",
              "      <td>0</td>\n",
              "      <td>0</td>\n",
              "    </tr>\n",
              "  </tbody>\n",
              "</table>\n",
              "</div>"
            ],
            "text/plain": [
              "            AuthorID        OwnerID  ... AuthorType OwnerType\n",
              "53795  VK_-164193141  VK_-164193141  ...          0         0\n",
              "53796   VK_-49207913   VK_-49207913  ...          0         0\n",
              "53797   VK_153549451   VK_153549451  ...          1         1\n",
              "53798   VK_320517396   VK_320517396  ...          1         1\n",
              "53799  VK_-182525523  VK_-182525523  ...          0         0\n",
              "\n",
              "[5 rows x 6 columns]"
            ]
          },
          "metadata": {
            "tags": []
          },
          "execution_count": 14
        }
      ]
    },
    {
      "cell_type": "code",
      "metadata": {
        "id": "0Hh_7VmChUhY",
        "colab_type": "code",
        "colab": {}
      },
      "source": [
        "words = data['SearchQuery'].unique()"
      ],
      "execution_count": 15,
      "outputs": []
    },
    {
      "cell_type": "code",
      "metadata": {
        "id": "vMMieGr7lrbR",
        "colab_type": "code",
        "colab": {
          "base_uri": "https://localhost:8080/",
          "height": 34
        },
        "outputId": "64c57153-d7ed-4cad-ed13-3ef90c4bb281"
      },
      "source": [
        "len(words)"
      ],
      "execution_count": 16,
      "outputs": [
        {
          "output_type": "execute_result",
          "data": {
            "text/plain": [
              "183"
            ]
          },
          "metadata": {
            "tags": []
          },
          "execution_count": 16
        }
      ]
    },
    {
      "cell_type": "code",
      "metadata": {
        "id": "tA115_yTlrd6",
        "colab_type": "code",
        "colab": {
          "base_uri": "https://localhost:8080/",
          "height": 561
        },
        "outputId": "c67f397c-b52f-4020-b772-6014511acf9c"
      },
      "source": [
        "words"
      ],
      "execution_count": 17,
      "outputs": [
        {
          "output_type": "execute_result",
          "data": {
            "text/plain": [
              "array(['войс', 'разлоить', 'воркер', 'райдер', 'вейпер', 'воркшоп',\n",
              "       'райтер', 'вау', 'гайдлайн', 'райтинг', 'ватафак', 'гайз',\n",
              "       'райтор', 'вайб', 'гамать', 'угуглиться', 'бэкстейдж', 'гейм',\n",
              "       'удриненный', 'бэби', 'геймер', 'ультимейт', 'бро', 'геймплей',\n",
              "       'брифинг', 'гендер', 'уэйест', 'брейкинг', 'герл', 'фаербрифер',\n",
              "       'бранч', 'гёрлфренд', 'фазер', 'бой-френд', 'гифка', 'файербол',\n",
              "       'бойлер', 'глиттер', 'файна', 'боди', 'глобал', 'блэкаут', 'гоу',\n",
              "       'хаггер', 'бишур', 'гуглить', 'хардкор', 'билдинг', 'дабл-клик',\n",
              "       'хаер', 'бейби', 'дабл-тайм', 'хазбенд', 'бездэй', 'дамага',\n",
              "       'хайграунд', 'баттл', 'дамажить', 'дансер', 'баксы', 'дарлинг',\n",
              "       'байпас', 'бай', 'девелопер', 'ачивка', 'дедлайн', 'аутсорсинг',\n",
              "       'виндпруф', 'деливери', 'аутсайдер', 'джоггинг', 'аскер',\n",
              "       'дистрибьютор', 'асап', 'доджить', 'донатить', 'дрейнер',\n",
              "       'агриться', 'дринк', 'анриал', 'изи', 'апать', 'имиджмейкер',\n",
              "       'павнер', 'импакт', 'андер', 'вестерн', 'импичмент', 'импрувмент',\n",
              "       'кэжуал', 'андеграунд', 'имэйл', 'айти', 'инглиш', 'абьюз',\n",
              "       'виральный', 'инсайд', 'велкам', 'камеди', 'абгрейт', 'каминг-аут',\n",
              "       'капсить', 'лабутены', 'кликать', 'клипмейкер', 'комишен',\n",
              "       'комьюнити', 'мазефакер', 'коннектится', 'мазифака', 'конфа',\n",
              "       'копипаста', 'май гад', 'коуч', 'майкап', 'крамбл', 'майкософт',\n",
              "       'краудсорсинг', 'саб', 'краудфандинг', 'саббер', 'крафтинг',\n",
              "       'сабер', 'краш', 'сабмит', 'крейзи', 'сабмишн', 'кроссдрессинг',\n",
              "       'сабы', 'кул', 'сайкобилли', 'лав сим', 'сайленс', 'лав-стори',\n",
              "       'сакс', 'лаверы', 'самойлайк', 'самп', 'лагфейс', 'самперы',\n",
              "       'ладдер', 'сампецкий', 'лайк', 'самплик', 'лайк тайм', 'лайкать',\n",
              "       'тавр', 'лайкаться', 'таггинг', 'таггер', 'лайкнуть', 'тагер',\n",
              "       'лайкодрочер', 'тайл', 'лайкооткликаемо', 'тайлсет', 'лайкшери',\n",
              "       'лайн', 'тайминг', 'лайтовать', 'тайп', 'лайтовая', 'на фоксе',\n",
              "       'нааскать', 'набигхитить', 'лайф', 'нагуглить', 'лайфхак', 'найки',\n",
              "       'обгрейдить', 'лакер', 'обджекторы', 'маза-фака', 'овервотер',\n",
              "       'мазафака', 'оверкаст', 'пабг', 'мазафукер', 'паблик', 'маздай',\n",
              "       'паблос', 'павер', 'мазер'], dtype=object)"
            ]
          },
          "metadata": {
            "tags": []
          },
          "execution_count": 17
        }
      ]
    },
    {
      "cell_type": "code",
      "metadata": {
        "id": "MqUWZbWYD2BN",
        "colab_type": "code",
        "colab": {}
      },
      "source": [
        "owners = data['OwnerID'].unique()"
      ],
      "execution_count": 18,
      "outputs": []
    },
    {
      "cell_type": "code",
      "metadata": {
        "id": "_68GrPAWmytF",
        "colab_type": "code",
        "colab": {
          "base_uri": "https://localhost:8080/",
          "height": 34
        },
        "outputId": "99515a48-16da-4a9d-9240-17294aa612fe"
      },
      "source": [
        "len(owners)"
      ],
      "execution_count": 19,
      "outputs": [
        {
          "output_type": "execute_result",
          "data": {
            "text/plain": [
              "37543"
            ]
          },
          "metadata": {
            "tags": []
          },
          "execution_count": 19
        }
      ]
    },
    {
      "cell_type": "code",
      "metadata": {
        "id": "UDwHpp6pnNMN",
        "colab_type": "code",
        "colab": {
          "base_uri": "https://localhost:8080/",
          "height": 34
        },
        "outputId": "1d7a4d93-fcc0-4c68-9812-16091299a675"
      },
      "source": [
        "groups = []\n",
        "for owner in owners:\n",
        "  if owner.startswith('VK_-'):\n",
        "    groups.append(owner)\n",
        "  else:\n",
        "    continue\n",
        "len(groups)"
      ],
      "execution_count": 23,
      "outputs": [
        {
          "output_type": "execute_result",
          "data": {
            "text/plain": [
              "25950"
            ]
          },
          "metadata": {
            "tags": []
          },
          "execution_count": 23
        }
      ]
    },
    {
      "cell_type": "code",
      "metadata": {
        "id": "9MzaoVgjrWdp",
        "colab_type": "code",
        "colab": {
          "base_uri": "https://localhost:8080/",
          "height": 272
        },
        "outputId": "dbf702f7-0662-421a-9013-0c19530dbe25"
      },
      "source": [
        "!pip install vk_api"
      ],
      "execution_count": 24,
      "outputs": [
        {
          "output_type": "stream",
          "text": [
            "Collecting vk_api\n",
            "  Downloading https://files.pythonhosted.org/packages/74/7c/435c5e1d7ac7b688b967f0bece58687671dcad6b4260eade1b049dc16403/vk_api-11.8.0.tar.gz\n",
            "Requirement already satisfied: requests in /usr/local/lib/python3.6/dist-packages (from vk_api) (2.23.0)\n",
            "Requirement already satisfied: six in /usr/local/lib/python3.6/dist-packages (from vk_api) (1.12.0)\n",
            "Requirement already satisfied: certifi>=2017.4.17 in /usr/local/lib/python3.6/dist-packages (from requests->vk_api) (2020.4.5.1)\n",
            "Requirement already satisfied: urllib3!=1.25.0,!=1.25.1,<1.26,>=1.21.1 in /usr/local/lib/python3.6/dist-packages (from requests->vk_api) (1.24.3)\n",
            "Requirement already satisfied: chardet<4,>=3.0.2 in /usr/local/lib/python3.6/dist-packages (from requests->vk_api) (3.0.4)\n",
            "Requirement already satisfied: idna<3,>=2.5 in /usr/local/lib/python3.6/dist-packages (from requests->vk_api) (2.9)\n",
            "Building wheels for collected packages: vk-api\n",
            "  Building wheel for vk-api (setup.py) ... \u001b[?25l\u001b[?25hdone\n",
            "  Created wheel for vk-api: filename=vk_api-11.8.0-cp36-none-any.whl size=42249 sha256=153a418ef52cdf6f10565a51beb9334a1da4d9cbaa3b2278983a47835845e25a\n",
            "  Stored in directory: /root/.cache/pip/wheels/39/bb/05/c3d370a1097f993c1089e0c6265f7cb782b4a583110f747805\n",
            "Successfully built vk-api\n",
            "Installing collected packages: vk-api\n",
            "Successfully installed vk-api-11.8.0\n"
          ],
          "name": "stdout"
        }
      ]
    },
    {
      "cell_type": "code",
      "metadata": {
        "id": "cqIWymMBrb-f",
        "colab_type": "code",
        "colab": {}
      },
      "source": [
        "import vk_api\n",
        "vk_session = vk_api.VkApi('ag15bar', '[Amatory2007]')\n",
        "vk_session.auth()\n",
        "\n",
        "vk = vk_session.get_api()"
      ],
      "execution_count": 25,
      "outputs": []
    },
    {
      "cell_type": "markdown",
      "metadata": {
        "id": "OlQoUcit0JjA",
        "colab_type": "text"
      },
      "source": [
        "194409713\n",
        "137472625"
      ]
    },
    {
      "cell_type": "code",
      "metadata": {
        "id": "G0kcB1z4pRjp",
        "colab_type": "code",
        "colab": {}
      },
      "source": [
        "members_ids = []\n",
        "for word in groups:\n",
        "  word = int(word.strip('VK_-'))\n",
        "  #print(word)\n",
        "  #print(type(word))\n",
        "  try:\n",
        "    members_ids.append([g for g in vk.groups.getMembers(group_id=word, sort='id_asc')['items']])\n",
        "  except Exception:\n",
        "    pass"
      ],
      "execution_count": 49,
      "outputs": []
    },
    {
      "cell_type": "code",
      "metadata": {
        "id": "Myt0Q7OdGoBn",
        "colab_type": "code",
        "colab": {}
      },
      "source": [
        "rows = zip(groups, members_ids)\n",
        "import csv\n",
        "with open(\"Группы и пользователи.csv\", \"w\") as f:\n",
        "  writer = csv.writer(f)\n",
        "  for row in rows:\n",
        "    writer.writerow(row)"
      ],
      "execution_count": 50,
      "outputs": []
    },
    {
      "cell_type": "code",
      "metadata": {
        "id": "2jD3K5kSHbw1",
        "colab_type": "code",
        "colab": {
          "base_uri": "https://localhost:8080/",
          "height": 663
        },
        "outputId": "c35dddde-4239-4815-c35e-fbc111428cad"
      },
      "source": [
        "together = pd.read_csv('Группы и пользователи.csv')\n",
        "together.head()"
      ],
      "execution_count": 51,
      "outputs": [
        {
          "output_type": "execute_result",
          "data": {
            "text/html": [
              "<div>\n",
              "<style scoped>\n",
              "    .dataframe tbody tr th:only-of-type {\n",
              "        vertical-align: middle;\n",
              "    }\n",
              "\n",
              "    .dataframe tbody tr th {\n",
              "        vertical-align: top;\n",
              "    }\n",
              "\n",
              "    .dataframe thead th {\n",
              "        text-align: right;\n",
              "    }\n",
              "</style>\n",
              "<table border=\"1\" class=\"dataframe\">\n",
              "  <thead>\n",
              "    <tr style=\"text-align: right;\">\n",
              "      <th></th>\n",
              "      <th>VK_-137472625</th>\n",
              "      <th>[101435, 105801, 191330, 353156, 485967, 664269, 673920, 838824, 875733, 1146889, 1202197, 1362955, 1421734, 1519615, 1865296, 1878482, 1952808, 2198456, 2204880, 2299860, 2309634, 2545517, 2622838, 2764530, 3233002, 3240036, 3276221, 3326766, 3492046, 4077549, 4263610, 4353499, 4393608, 4511869, 5091741, 5503027, 5527957, 5720195, 5741289, 6194729, 6878619, 7015296, 7766680, 7879677, 8148814, 8624331, 8905457, 9629449, 9741094, 9801536, 10053259, 10539945, 10570799, 11663561, 11872309, 12289490, 12726813, 12829557, 13242896, 14127924, 14478307, 15218106, 15437215, 15901987, 16078857, 17112590, 17262068, 17423527, 17551891, 18153619, 18449749, 18637505, 20126586, 20137611, 20264933, 20306414, 21306655, 21345460, 21666828, 22095359, 22145456, 22597018, 22877641, 24586983, 25737637, 25897764, 28950018, 29603997, 30020854, 30613161, 30883485, 31061199, 31665471, 34066487, 36388893, 36827454, 37709050, 38010599, 38682199, 41184775, 41562712, 41794270, 42315631, 42853613, 43454639, 44053040, 44665976, 45200339, 45212041, 46374500, 47318199, 50117558, 50245299, 50279176, 50733814, 51655099, 53390570, 53920106, 55555257, 56641723, 57449925, 57867083, 58112531, 58783588, 61541039, 61633291, 63413421, 63467238, 67553188, 70922560, 73460875, 86156945, 88166713, 90098646, 95561019, 97578592, 99535467, 100193333, 102669802, 103876312, 104081208, 106098156, 110939073, 111704301, 114788992, 116429946, 119184255, 121506251, 122346570, 122724892, 124429571, 125282657, 127572706, 133118376, 133891639, 136082154, 138101129, 138579347, 138633243, 140024570, 141675173, 142413057, 143280703, 143803306, 147115687, 148948898, 149216513, 152002165, 153351233, 160179688, 160499893, 160650023, 160729534, 161108201, 162437821, 163297490, 163390227, 163592773, 165184871, 167933880, 168036950, 169404973, 169480265, 171014901, 172099064, 172880599, 173947600, 176936820, 179635546, 180955739, 181675035, 181845938, 183930857, 183935372, 184355620, 185535996, 189635382, 191396392, 195792244, 196581586, 197402138, 198520993, 198768943, 199336098, 204901126, 205002452, 205829079, 207079062, 209754973, 211174178, 212096567, 214455529, 218140101, 218305617, 220679562, 221577294, 222711582, 223841184, 224073343, 224358433, 224712152, 225234049, 225251665, 228012197, 232392413, 232784692, 234357348, 234959440, 235075753, 235134417, 241792277, 242583902, 245121666, 247931884, 248387761, 250817948, 251075328, 251165129, 254505149, 257548638, 259128203, 263670541, 266816888, 268007354, 273623984, 274665411, 276009318, 279460632, 283942942, 293505539, 294580728, 295400745, 296240044, 300262832, 304124782, 306743121, 308498229, 309929879, 310890159, 314264490, 315001020, 319992333, 324893734, 324966038, 325212862, 328352495, 337283430, 337607950, 339718359, 340255112, 341011700, 341526376, 346607206, 353737793, 359676858, 362285129, 369004424, 371218277, 372584352, 374871901, 375775510, 376802426, 378677026, 379078623, 379447094, 380901500, 380933995, 383821953, 383848117, 384087264, 384181183, 384691216, 385304524, 385452947, 385846000, 391092804, 397928456, 399457391, 401878454, 404610600, 404777121, 407066153, 407188280, 407548615, 409168043, 409321796, 412571111, 414920531, 416308268, 416590077, 416808609, 421607906, 422649273, 426912427, 426947781, 427292887, 428008562, 431401545, 432526237, 433449534, 440429538, 440533862, 440860230, 443132722, 451678038, 451843518, 452481260, 460109682, 460398286, 469811917, 472469676, 473829836, 480590801, 481585655, 483577404, 483619289, 485779877, 487272710, 493864690, 493934921, 506922812, 507874993, 518892248, 541048286, 557894879, 559965057, 583382508]</th>\n",
              "    </tr>\n",
              "  </thead>\n",
              "  <tbody>\n",
              "    <tr>\n",
              "      <th>0</th>\n",
              "      <td>VK_-110896651</td>\n",
              "      <td>[780934, 830001, 836222, 1004278, 1665190, 233...</td>\n",
              "    </tr>\n",
              "    <tr>\n",
              "      <th>1</th>\n",
              "      <td>VK_-196351490</td>\n",
              "      <td>[518436379]</td>\n",
              "    </tr>\n",
              "    <tr>\n",
              "      <th>2</th>\n",
              "      <td>VK_-184898993</td>\n",
              "      <td>[88448, 493832, 1591629, 2534553, 4198909, 428...</td>\n",
              "    </tr>\n",
              "    <tr>\n",
              "      <th>3</th>\n",
              "      <td>VK_-164251213</td>\n",
              "      <td>[5206505, 45741508, 58873119, 79030324, 132966...</td>\n",
              "    </tr>\n",
              "    <tr>\n",
              "      <th>4</th>\n",
              "      <td>VK_-194409713</td>\n",
              "      <td>[1112937, 1228128, 1431028, 2450638, 3424249, ...</td>\n",
              "    </tr>\n",
              "  </tbody>\n",
              "</table>\n",
              "</div>"
            ],
            "text/plain": [
              "   VK_-137472625 [101435, 105801, 191330, 353156, 485967, 664269, 673920, 838824, 875733, 1146889, 1202197, 1362955, 1421734, 1519615, 1865296, 1878482, 1952808, 2198456, 2204880, 2299860, 2309634, 2545517, 2622838, 2764530, 3233002, 3240036, 3276221, 3326766, 3492046, 4077549, 4263610, 4353499, 4393608, 4511869, 5091741, 5503027, 5527957, 5720195, 5741289, 6194729, 6878619, 7015296, 7766680, 7879677, 8148814, 8624331, 8905457, 9629449, 9741094, 9801536, 10053259, 10539945, 10570799, 11663561, 11872309, 12289490, 12726813, 12829557, 13242896, 14127924, 14478307, 15218106, 15437215, 15901987, 16078857, 17112590, 17262068, 17423527, 17551891, 18153619, 18449749, 18637505, 20126586, 20137611, 20264933, 20306414, 21306655, 21345460, 21666828, 22095359, 22145456, 22597018, 22877641, 24586983, 25737637, 25897764, 28950018, 29603997, 30020854, 30613161, 30883485, 31061199, 31665471, 34066487, 36388893, 36827454, 37709050, 38010599, 38682199, 41184775, 41562712, 41794270, 42315631, 42853613, 43454639, 44053040, 44665976, 45200339, 45212041, 46374500, 47318199, 50117558, 50245299, 50279176, 50733814, 51655099, 53390570, 53920106, 55555257, 56641723, 57449925, 57867083, 58112531, 58783588, 61541039, 61633291, 63413421, 63467238, 67553188, 70922560, 73460875, 86156945, 88166713, 90098646, 95561019, 97578592, 99535467, 100193333, 102669802, 103876312, 104081208, 106098156, 110939073, 111704301, 114788992, 116429946, 119184255, 121506251, 122346570, 122724892, 124429571, 125282657, 127572706, 133118376, 133891639, 136082154, 138101129, 138579347, 138633243, 140024570, 141675173, 142413057, 143280703, 143803306, 147115687, 148948898, 149216513, 152002165, 153351233, 160179688, 160499893, 160650023, 160729534, 161108201, 162437821, 163297490, 163390227, 163592773, 165184871, 167933880, 168036950, 169404973, 169480265, 171014901, 172099064, 172880599, 173947600, 176936820, 179635546, 180955739, 181675035, 181845938, 183930857, 183935372, 184355620, 185535996, 189635382, 191396392, 195792244, 196581586, 197402138, 198520993, 198768943, 199336098, 204901126, 205002452, 205829079, 207079062, 209754973, 211174178, 212096567, 214455529, 218140101, 218305617, 220679562, 221577294, 222711582, 223841184, 224073343, 224358433, 224712152, 225234049, 225251665, 228012197, 232392413, 232784692, 234357348, 234959440, 235075753, 235134417, 241792277, 242583902, 245121666, 247931884, 248387761, 250817948, 251075328, 251165129, 254505149, 257548638, 259128203, 263670541, 266816888, 268007354, 273623984, 274665411, 276009318, 279460632, 283942942, 293505539, 294580728, 295400745, 296240044, 300262832, 304124782, 306743121, 308498229, 309929879, 310890159, 314264490, 315001020, 319992333, 324893734, 324966038, 325212862, 328352495, 337283430, 337607950, 339718359, 340255112, 341011700, 341526376, 346607206, 353737793, 359676858, 362285129, 369004424, 371218277, 372584352, 374871901, 375775510, 376802426, 378677026, 379078623, 379447094, 380901500, 380933995, 383821953, 383848117, 384087264, 384181183, 384691216, 385304524, 385452947, 385846000, 391092804, 397928456, 399457391, 401878454, 404610600, 404777121, 407066153, 407188280, 407548615, 409168043, 409321796, 412571111, 414920531, 416308268, 416590077, 416808609, 421607906, 422649273, 426912427, 426947781, 427292887, 428008562, 431401545, 432526237, 433449534, 440429538, 440533862, 440860230, 443132722, 451678038, 451843518, 452481260, 460109682, 460398286, 469811917, 472469676, 473829836, 480590801, 481585655, 483577404, 483619289, 485779877, 487272710, 493864690, 493934921, 506922812, 507874993, 518892248, 541048286, 557894879, 559965057, 583382508]\n",
              "0  VK_-110896651  [780934, 830001, 836222, 1004278, 1665190, 233...                                                                                                                                                                                                                                                                                                                                                                                                                                                                                                                                                                                                                                                                                                                                                                                                                                                                                                                                                                                                                                                                                                                                                                                                                                                                                                                                                                                                                                                                                                                                                                                                                                                                                                                                                                                                                                                                                                                                                                                                                                                                                                                                                                                                                                                                                                                                                                                                                                                                                                                                                                                                                                                                                                                                                                                                                                                                                                                                                                                                                                                                                                                                                                                                                                                                                                                                                                                                                                                                                                                                                                                                                                                                                                                   \n",
              "1  VK_-196351490                                        [518436379]                                                                                                                                                                                                                                                                                                                                                                                                                                                                                                                                                                                                                                                                                                                                                                                                                                                                                                                                                                                                                                                                                                                                                                                                                                                                                                                                                                                                                                                                                                                                                                                                                                                                                                                                                                                                                                                                                                                                                                                                                                                                                                                                                                                                                                                                                                                                                                                                                                                                                                                                                                                                                                                                                                                                                                                                                                                                                                                                                                                                                                                                                                                                                                                                                                                                                                                                                                                                                                                                                                                                                                                                                                                                                                                   \n",
              "2  VK_-184898993  [88448, 493832, 1591629, 2534553, 4198909, 428...                                                                                                                                                                                                                                                                                                                                                                                                                                                                                                                                                                                                                                                                                                                                                                                                                                                                                                                                                                                                                                                                                                                                                                                                                                                                                                                                                                                                                                                                                                                                                                                                                                                                                                                                                                                                                                                                                                                                                                                                                                                                                                                                                                                                                                                                                                                                                                                                                                                                                                                                                                                                                                                                                                                                                                                                                                                                                                                                                                                                                                                                                                                                                                                                                                                                                                                                                                                                                                                                                                                                                                                                                                                                                                                   \n",
              "3  VK_-164251213  [5206505, 45741508, 58873119, 79030324, 132966...                                                                                                                                                                                                                                                                                                                                                                                                                                                                                                                                                                                                                                                                                                                                                                                                                                                                                                                                                                                                                                                                                                                                                                                                                                                                                                                                                                                                                                                                                                                                                                                                                                                                                                                                                                                                                                                                                                                                                                                                                                                                                                                                                                                                                                                                                                                                                                                                                                                                                                                                                                                                                                                                                                                                                                                                                                                                                                                                                                                                                                                                                                                                                                                                                                                                                                                                                                                                                                                                                                                                                                                                                                                                                                                   \n",
              "4  VK_-194409713  [1112937, 1228128, 1431028, 2450638, 3424249, ...                                                                                                                                                                                                                                                                                                                                                                                                                                                                                                                                                                                                                                                                                                                                                                                                                                                                                                                                                                                                                                                                                                                                                                                                                                                                                                                                                                                                                                                                                                                                                                                                                                                                                                                                                                                                                                                                                                                                                                                                                                                                                                                                                                                                                                                                                                                                                                                                                                                                                                                                                                                                                                                                                                                                                                                                                                                                                                                                                                                                                                                                                                                                                                                                                                                                                                                                                                                                                                                                                                                                                                                                                                                                                                                   "
            ]
          },
          "metadata": {
            "tags": []
          },
          "execution_count": 51
        }
      ]
    }
  ]
}