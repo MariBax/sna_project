{
 "cells": [
  {
   "cell_type": "markdown",
   "metadata": {
    "colab_type": "text",
    "id": "view-in-github"
   },
   "source": [
    "<a href=\"https://colab.research.google.com/github/Vakhranev/Networks/blob/master/%D0%A1%D0%B1%D0%BE%D1%80_ID_%D0%B3%D1%80%D1%83%D0%BF%D0%BF.ipynb\" target=\"_parent\"><img src=\"https://colab.research.google.com/assets/colab-badge.svg\" alt=\"Open In Colab\"/></a>"
   ]
  },
  {
   "cell_type": "code",
   "execution_count": 1,
   "metadata": {
    "colab": {
     "base_uri": "https://localhost:8080/",
     "height": 255
    },
    "colab_type": "code",
    "id": "Gxh-9aU-71Sf",
    "outputId": "aa14c478-127e-4785-b923-8925d1b22f30"
   },
   "outputs": [],
   "source": [
    "# !pip3 install vk --user"
   ]
  },
  {
   "cell_type": "code",
   "execution_count": 2,
   "metadata": {
    "colab": {
     "base_uri": "https://localhost:8080/",
     "height": 272
    },
    "colab_type": "code",
    "id": "qw96LcDJSe62",
    "outputId": "6d540ddb-24be-4fbf-9592-a6c9cb21c078"
   },
   "outputs": [],
   "source": [
    "# !pip install vk_api"
   ]
  },
  {
   "cell_type": "code",
   "execution_count": 28,
   "metadata": {
    "colab": {},
    "colab_type": "code",
    "id": "kZn3pH3U_Yr9"
   },
   "outputs": [],
   "source": [
    "import pandas as pd\n",
    "import csv\n",
    "import vk_api\n",
    "import re\n",
    "import collections\n",
    "import matplotlib.pyplot as plt\n",
    "\n",
    "from operator import itemgetter"
   ]
  },
  {
   "cell_type": "code",
   "execution_count": 4,
   "metadata": {
    "colab": {
     "base_uri": "https://localhost:8080/",
     "height": 34
    },
    "colab_type": "code",
    "id": "wsZIv7mqBva2",
    "outputId": "54834067-9e56-4d1d-918d-9693af3f6f81"
   },
   "outputs": [
    {
     "data": {
      "text/plain": [
       "16132"
      ]
     },
     "execution_count": 4,
     "metadata": {},
     "output_type": "execute_result"
    }
   ],
   "source": [
    "diacov = pd.read_csv('slovar_edited (2).csv')\n",
    "len(diacov)"
   ]
  },
  {
   "cell_type": "code",
   "execution_count": 5,
   "metadata": {
    "colab": {
     "base_uri": "https://localhost:8080/",
     "height": 204
    },
    "colab_type": "code",
    "id": "Q3QgTddIB3UH",
    "outputId": "0247acd6-007d-4065-e405-1f21e9d4dd07"
   },
   "outputs": [
    {
     "data": {
      "text/html": [
       "<div>\n",
       "<style scoped>\n",
       "    .dataframe tbody tr th:only-of-type {\n",
       "        vertical-align: middle;\n",
       "    }\n",
       "\n",
       "    .dataframe tbody tr th {\n",
       "        vertical-align: top;\n",
       "    }\n",
       "\n",
       "    .dataframe thead th {\n",
       "        text-align: right;\n",
       "    }\n",
       "</style>\n",
       "<table border=\"1\" class=\"dataframe\">\n",
       "  <thead>\n",
       "    <tr style=\"text-align: right;\">\n",
       "      <th></th>\n",
       "      <th>(БОНГ)</th>\n",
       "    </tr>\n",
       "  </thead>\n",
       "  <tbody>\n",
       "    <tr>\n",
       "      <th>0</th>\n",
       "      <td>A</td>\n",
       "    </tr>\n",
       "    <tr>\n",
       "      <th>1</th>\n",
       "      <td>AAA</td>\n",
       "    </tr>\n",
       "    <tr>\n",
       "      <th>2</th>\n",
       "      <td>AM</td>\n",
       "    </tr>\n",
       "    <tr>\n",
       "      <th>3</th>\n",
       "      <td>C</td>\n",
       "    </tr>\n",
       "    <tr>\n",
       "      <th>4</th>\n",
       "      <td>DVD</td>\n",
       "    </tr>\n",
       "  </tbody>\n",
       "</table>\n",
       "</div>"
      ],
      "text/plain": [
       "  (БОНГ)\n",
       "0      A\n",
       "1    AAA\n",
       "2     AM\n",
       "3      C\n",
       "4    DVD"
      ]
     },
     "execution_count": 5,
     "metadata": {},
     "output_type": "execute_result"
    }
   ],
   "source": [
    "diacov.head()"
   ]
  },
  {
   "cell_type": "markdown",
   "metadata": {
    "colab_type": "text",
    "id": "42ItMhegMeDm"
   },
   "source": [
    "Уберём из списка все слова, в которых менее 4 символов"
   ]
  },
  {
   "cell_type": "code",
   "execution_count": 6,
   "metadata": {
    "colab": {
     "base_uri": "https://localhost:8080/",
     "height": 34
    },
    "colab_type": "code",
    "id": "kpUWOIBxClpm",
    "outputId": "1f39498d-cb99-44a4-f9f6-fa8a38f0cf5a"
   },
   "outputs": [
    {
     "data": {
      "text/plain": [
       "15121"
      ]
     },
     "execution_count": 6,
     "metadata": {},
     "output_type": "execute_result"
    }
   ],
   "source": [
    "d_list = []\n",
    "for word in diacov['(БОНГ)']:\n",
    "    if len(word) > 3:\n",
    "        d_list.append(word)\n",
    "len(d_list)"
   ]
  },
  {
   "cell_type": "code",
   "execution_count": 7,
   "metadata": {},
   "outputs": [],
   "source": [
    "READ = True"
   ]
  },
  {
   "cell_type": "code",
   "execution_count": 8,
   "metadata": {
    "colab": {},
    "colab_type": "code",
    "id": "vtkATPN9MncP"
   },
   "outputs": [],
   "source": [
    "if not READ:\n",
    "    vk_session = vk_api.VkApi(login, password)\n",
    "    vk_session.auth()\n",
    "\n",
    "    vk = vk_session.get_api()"
   ]
  },
  {
   "cell_type": "markdown",
   "metadata": {
    "colab_type": "text",
    "id": "2E2hiJaIMznO"
   },
   "source": [
    "Найдём все группы, в которых используются слова из списка"
   ]
  },
  {
   "cell_type": "code",
   "execution_count": 9,
   "metadata": {
    "colab": {},
    "colab_type": "code",
    "id": "eDjC15c-bSwC"
   },
   "outputs": [],
   "source": [
    "if READ:\n",
    "    with open(\"Список ID групп.txt\", \"r\") as file:\n",
    "        full_list = [line.strip() for line in file.readlines()]\n",
    "    \n",
    "else:\n",
    "    groups_ids = []\n",
    "    for word in d_list:\n",
    "        groups_ids.append([g['id'] for g in vk.groups.search(q=word, sort=2)['items']])\n",
    "\n",
    "    # Теперь соберём в один список все ID групп без повторов\n",
    "    \n",
    "    full_list = []\n",
    "    for ids in groups_ids:\n",
    "        for id in ids:\n",
    "            if id in full_list:\n",
    "                continue\n",
    "            else:\n",
    "                full_list.append(id)"
   ]
  },
  {
   "cell_type": "code",
   "execution_count": 10,
   "metadata": {
    "colab": {
     "base_uri": "https://localhost:8080/",
     "height": 34
    },
    "colab_type": "code",
    "id": "XSdYM_8n6eBi",
    "outputId": "5e5573ef-d4a4-4b6b-9932-a8fcc744a96b"
   },
   "outputs": [
    {
     "name": "stdout",
     "output_type": "stream",
     "text": [
      "114455\n",
      "15121\n"
     ]
    }
   ],
   "source": [
    "# print(len(groups_ids))\n",
    "# print(groups_ids[:10])\n",
    "print(len(full_list))\n",
    "print(len(d_list))"
   ]
  },
  {
   "cell_type": "code",
   "execution_count": 11,
   "metadata": {
    "colab": {},
    "colab_type": "code",
    "id": "pLPNw3yB-28D"
   },
   "outputs": [],
   "source": [
    "# write results to files\n",
    "\n",
    "if not READ:\n",
    "    with open(\"Список ID групп.txt\", \"w\") as file:\n",
    "        print(*full_list, file=file, sep=\"\\n\")\n",
    "        \n",
    "    rows = zip(d_list, groups_ids)\n",
    "\n",
    "    with open(\"Слова и группы.csv\", \"w\") as f:\n",
    "        writer = csv.writer(f)\n",
    "        for row in rows:\n",
    "            writer.writerow(row)"
   ]
  },
  {
   "cell_type": "code",
   "execution_count": 12,
   "metadata": {},
   "outputs": [],
   "source": [
    "# read data\n",
    "\n",
    "words_and_groups = pd.read_csv('Слова и группы.csv', header=None)\n",
    "words_and_groups.columns = ['word', 'groups']\n",
    "\n",
    "for row_id in range(words_and_groups.shape[0]):\n",
    "    # make lists of groups (not str)\n",
    "    words_and_groups['groups'][row_id] = \\\n",
    "    [re.sub('[\\[\\] ]', \"\", group_id) for group_id in words_and_groups['groups'][row_id].split(',')]\n",
    "    # remove blank elements\n",
    "    if '' in words_and_groups['groups'][row_id]:\n",
    "        words_and_groups['groups'][row_id].remove('') "
   ]
  },
  {
   "cell_type": "code",
   "execution_count": 13,
   "metadata": {
    "colab": {
     "base_uri": "https://localhost:8080/",
     "height": 204
    },
    "colab_type": "code",
    "id": "X4V4Ba2wK2NC",
    "outputId": "d043d1d1-4c28-479d-98ff-bf42a9eb65ca"
   },
   "outputs": [
    {
     "data": {
      "text/html": [
       "<div>\n",
       "<style scoped>\n",
       "    .dataframe tbody tr th:only-of-type {\n",
       "        vertical-align: middle;\n",
       "    }\n",
       "\n",
       "    .dataframe tbody tr th {\n",
       "        vertical-align: top;\n",
       "    }\n",
       "\n",
       "    .dataframe thead th {\n",
       "        text-align: right;\n",
       "    }\n",
       "</style>\n",
       "<table border=\"1\" class=\"dataframe\">\n",
       "  <thead>\n",
       "    <tr style=\"text-align: right;\">\n",
       "      <th></th>\n",
       "      <th>word</th>\n",
       "      <th>groups</th>\n",
       "    </tr>\n",
       "  </thead>\n",
       "  <tbody>\n",
       "    <tr>\n",
       "      <th>0</th>\n",
       "      <td>EMOM</td>\n",
       "      <td>[76241217]</td>\n",
       "    </tr>\n",
       "    <tr>\n",
       "      <th>1</th>\n",
       "      <td>«ДЖЕНЕРАЛ</td>\n",
       "      <td>[24591951, 44283465, 141995214, 20368056, 1558...</td>\n",
       "    </tr>\n",
       "    <tr>\n",
       "      <th>2</th>\n",
       "      <td>«КОЛЛ</td>\n",
       "      <td>[160306783, 163767797, 110418645, 90907483, 12...</td>\n",
       "    </tr>\n",
       "    <tr>\n",
       "      <th>3</th>\n",
       "      <td>«КОЛЛ»</td>\n",
       "      <td>[160306783, 163767797, 110418645, 90907483, 12...</td>\n",
       "    </tr>\n",
       "    <tr>\n",
       "      <th>4</th>\n",
       "      <td>«ЛОНГ»</td>\n",
       "      <td>[94695077, 61951703, 19947779, 193373963, 3124...</td>\n",
       "    </tr>\n",
       "  </tbody>\n",
       "</table>\n",
       "</div>"
      ],
      "text/plain": [
       "        word                                             groups\n",
       "0       EMOM                                         [76241217]\n",
       "1  «ДЖЕНЕРАЛ  [24591951, 44283465, 141995214, 20368056, 1558...\n",
       "2      «КОЛЛ  [160306783, 163767797, 110418645, 90907483, 12...\n",
       "3     «КОЛЛ»  [160306783, 163767797, 110418645, 90907483, 12...\n",
       "4     «ЛОНГ»  [94695077, 61951703, 19947779, 193373963, 3124..."
      ]
     },
     "execution_count": 13,
     "metadata": {},
     "output_type": "execute_result"
    }
   ],
   "source": [
    "words_and_groups.head()"
   ]
  },
  {
   "cell_type": "markdown",
   "metadata": {},
   "source": [
    "Take top 7000 groups (according to frequency of using words):"
   ]
  },
  {
   "cell_type": "code",
   "execution_count": 14,
   "metadata": {},
   "outputs": [],
   "source": [
    "# initialize zero-counts\n",
    "\n",
    "word_counts = {group_id: 0 for group_id in full_list}"
   ]
  },
  {
   "cell_type": "code",
   "execution_count": 15,
   "metadata": {},
   "outputs": [],
   "source": [
    "# compute counts\n",
    "\n",
    "for row_id in range(words_and_groups.shape[0]):\n",
    "    for group_id in words_and_groups['groups'][row_id]:\n",
    "        word_counts[group_id] += 1"
   ]
  },
  {
   "cell_type": "code",
   "execution_count": 17,
   "metadata": {},
   "outputs": [
    {
     "name": "stdout",
     "output_type": "stream",
     "text": [
      "14\n",
      "1\n"
     ]
    }
   ],
   "source": [
    "print(max(word_counts.values()))\n",
    "print(min(word_counts.values()))"
   ]
  },
  {
   "cell_type": "code",
   "execution_count": 31,
   "metadata": {},
   "outputs": [
    {
     "data": {
      "image/png": "[encoded data removed]",
      "text/plain": [
       "<Figure size 432x288 with 1 Axes>"
      ]
     },
     "metadata": {
      "needs_background": "light"
     },
     "output_type": "display_data"
    }
   ],
   "source": [
    "x = list(word_counts.values())\n",
    "plt.hist(x, bins=14)\n",
    "plt.show()"
   ]
  },
  {
   "cell_type": "code",
   "execution_count": 18,
   "metadata": {},
   "outputs": [],
   "source": [
    "# sort dict\n",
    "\n",
    "word_counts_sorted = collections.OrderedDict((sorted(word_counts.items(), key=itemgetter(1))))"
   ]
  },
  {
   "cell_type": "code",
   "execution_count": 19,
   "metadata": {},
   "outputs": [
    {
     "data": {
      "text/plain": [
       "109455"
      ]
     },
     "execution_count": 19,
     "metadata": {},
     "output_type": "execute_result"
    }
   ],
   "source": [
    "# make list of groups to remove\n",
    "\n",
    "groups_to_remove = list(word_counts_sorted.keys())[: len(word_counts_sorted) - 5000]\n",
    "groups_to_remove = set(groups_to_remove)\n",
    "len(groups_to_remove)"
   ]
  },
  {
   "cell_type": "code",
   "execution_count": 20,
   "metadata": {},
   "outputs": [],
   "source": [
    "# delete groups from words_and_groups\n",
    "\n",
    "words_and_groups['groups'] = words_and_groups['groups'].apply(\n",
    "    lambda x: list(set(x) - groups_to_remove))     "
   ]
  },
  {
   "cell_type": "code",
   "execution_count": 22,
   "metadata": {},
   "outputs": [
    {
     "data": {
      "text/html": [
       "<div>\n",
       "<style scoped>\n",
       "    .dataframe tbody tr th:only-of-type {\n",
       "        vertical-align: middle;\n",
       "    }\n",
       "\n",
       "    .dataframe tbody tr th {\n",
       "        vertical-align: top;\n",
       "    }\n",
       "\n",
       "    .dataframe thead th {\n",
       "        text-align: right;\n",
       "    }\n",
       "</style>\n",
       "<table border=\"1\" class=\"dataframe\">\n",
       "  <thead>\n",
       "    <tr style=\"text-align: right;\">\n",
       "      <th></th>\n",
       "      <th>word</th>\n",
       "      <th>groups</th>\n",
       "    </tr>\n",
       "  </thead>\n",
       "  <tbody>\n",
       "    <tr>\n",
       "      <th>0</th>\n",
       "      <td>EMOM</td>\n",
       "      <td>[]</td>\n",
       "    </tr>\n",
       "    <tr>\n",
       "      <th>1</th>\n",
       "      <td>«ДЖЕНЕРАЛ</td>\n",
       "      <td>[44283465, 21946972, 133125527, 52770369, 2036...</td>\n",
       "    </tr>\n",
       "    <tr>\n",
       "      <th>2</th>\n",
       "      <td>«КОЛЛ</td>\n",
       "      <td>[146822877, 90907483, 42448512, 150500858, 456...</td>\n",
       "    </tr>\n",
       "    <tr>\n",
       "      <th>3</th>\n",
       "      <td>«КОЛЛ»</td>\n",
       "      <td>[146822877, 90907483, 42448512, 150500858, 456...</td>\n",
       "    </tr>\n",
       "    <tr>\n",
       "      <th>4</th>\n",
       "      <td>«ЛОНГ»</td>\n",
       "      <td>[160189295, 148816134, 167367178, 45733941, 19...</td>\n",
       "    </tr>\n",
       "  </tbody>\n",
       "</table>\n",
       "</div>"
      ],
      "text/plain": [
       "        word                                             groups\n",
       "0       EMOM                                                 []\n",
       "1  «ДЖЕНЕРАЛ  [44283465, 21946972, 133125527, 52770369, 2036...\n",
       "2      «КОЛЛ  [146822877, 90907483, 42448512, 150500858, 456...\n",
       "3     «КОЛЛ»  [146822877, 90907483, 42448512, 150500858, 456...\n",
       "4     «ЛОНГ»  [160189295, 148816134, 167367178, 45733941, 19..."
      ]
     },
     "execution_count": 22,
     "metadata": {},
     "output_type": "execute_result"
    }
   ],
   "source": [
    "words_and_groups.head()"
   ]
  },
  {
   "cell_type": "code",
   "execution_count": 23,
   "metadata": {},
   "outputs": [],
   "source": [
    "# delete rows like \"word: []\"\n",
    "\n",
    "words_and_groups = words_and_groups.drop(words_and_groups[words_and_groups['groups'].map(len) == 0].index)"
   ]
  },
  {
   "cell_type": "code",
   "execution_count": 24,
   "metadata": {},
   "outputs": [
    {
     "data": {
      "text/html": [
       "<div>\n",
       "<style scoped>\n",
       "    .dataframe tbody tr th:only-of-type {\n",
       "        vertical-align: middle;\n",
       "    }\n",
       "\n",
       "    .dataframe tbody tr th {\n",
       "        vertical-align: top;\n",
       "    }\n",
       "\n",
       "    .dataframe thead th {\n",
       "        text-align: right;\n",
       "    }\n",
       "</style>\n",
       "<table border=\"1\" class=\"dataframe\">\n",
       "  <thead>\n",
       "    <tr style=\"text-align: right;\">\n",
       "      <th></th>\n",
       "      <th>word</th>\n",
       "      <th>groups</th>\n",
       "    </tr>\n",
       "  </thead>\n",
       "  <tbody>\n",
       "    <tr>\n",
       "      <th>1</th>\n",
       "      <td>«ДЖЕНЕРАЛ</td>\n",
       "      <td>[44283465, 21946972, 133125527, 52770369, 2036...</td>\n",
       "    </tr>\n",
       "    <tr>\n",
       "      <th>2</th>\n",
       "      <td>«КОЛЛ</td>\n",
       "      <td>[146822877, 90907483, 42448512, 150500858, 456...</td>\n",
       "    </tr>\n",
       "    <tr>\n",
       "      <th>3</th>\n",
       "      <td>«КОЛЛ»</td>\n",
       "      <td>[146822877, 90907483, 42448512, 150500858, 456...</td>\n",
       "    </tr>\n",
       "    <tr>\n",
       "      <th>4</th>\n",
       "      <td>«ЛОНГ»</td>\n",
       "      <td>[160189295, 148816134, 167367178, 45733941, 19...</td>\n",
       "    </tr>\n",
       "    <tr>\n",
       "      <th>5</th>\n",
       "      <td>«МЕДВЕДЕЙ»</td>\n",
       "      <td>[91197755]</td>\n",
       "    </tr>\n",
       "  </tbody>\n",
       "</table>\n",
       "</div>"
      ],
      "text/plain": [
       "         word                                             groups\n",
       "1   «ДЖЕНЕРАЛ  [44283465, 21946972, 133125527, 52770369, 2036...\n",
       "2       «КОЛЛ  [146822877, 90907483, 42448512, 150500858, 456...\n",
       "3      «КОЛЛ»  [146822877, 90907483, 42448512, 150500858, 456...\n",
       "4      «ЛОНГ»  [160189295, 148816134, 167367178, 45733941, 19...\n",
       "5  «МЕДВЕДЕЙ»                                         [91197755]"
      ]
     },
     "execution_count": 24,
     "metadata": {},
     "output_type": "execute_result"
    }
   ],
   "source": [
    "words_and_groups.head()"
   ]
  },
  {
   "cell_type": "code",
   "execution_count": 25,
   "metadata": {},
   "outputs": [
    {
     "data": {
      "text/plain": [
       "3066"
      ]
     },
     "execution_count": 25,
     "metadata": {},
     "output_type": "execute_result"
    }
   ],
   "source": [
    "len(words_and_groups)"
   ]
  },
  {
   "cell_type": "code",
   "execution_count": 26,
   "metadata": {},
   "outputs": [],
   "source": [
    "words_and_groups.to_csv('words_and_groups_filtered.csv', index=False)"
   ]
  },
  {
   "cell_type": "code",
   "execution_count": 27,
   "metadata": {},
   "outputs": [
    {
     "data": {
      "text/html": [
       "<div>\n",
       "<style scoped>\n",
       "    .dataframe tbody tr th:only-of-type {\n",
       "        vertical-align: middle;\n",
       "    }\n",
       "\n",
       "    .dataframe tbody tr th {\n",
       "        vertical-align: top;\n",
       "    }\n",
       "\n",
       "    .dataframe thead th {\n",
       "        text-align: right;\n",
       "    }\n",
       "</style>\n",
       "<table border=\"1\" class=\"dataframe\">\n",
       "  <thead>\n",
       "    <tr style=\"text-align: right;\">\n",
       "      <th></th>\n",
       "      <th>word</th>\n",
       "      <th>groups</th>\n",
       "    </tr>\n",
       "  </thead>\n",
       "  <tbody>\n",
       "    <tr>\n",
       "      <th>0</th>\n",
       "      <td>«ДЖЕНЕРАЛ</td>\n",
       "      <td>['44283465', '21946972', '133125527', '5277036...</td>\n",
       "    </tr>\n",
       "    <tr>\n",
       "      <th>1</th>\n",
       "      <td>«КОЛЛ</td>\n",
       "      <td>['146822877', '90907483', '42448512', '1505008...</td>\n",
       "    </tr>\n",
       "    <tr>\n",
       "      <th>2</th>\n",
       "      <td>«КОЛЛ»</td>\n",
       "      <td>['146822877', '90907483', '42448512', '1505008...</td>\n",
       "    </tr>\n",
       "    <tr>\n",
       "      <th>3</th>\n",
       "      <td>«ЛОНГ»</td>\n",
       "      <td>['160189295', '148816134', '167367178', '45733...</td>\n",
       "    </tr>\n",
       "    <tr>\n",
       "      <th>4</th>\n",
       "      <td>«МЕДВЕДЕЙ»</td>\n",
       "      <td>['91197755']</td>\n",
       "    </tr>\n",
       "  </tbody>\n",
       "</table>\n",
       "</div>"
      ],
      "text/plain": [
       "         word                                             groups\n",
       "0   «ДЖЕНЕРАЛ  ['44283465', '21946972', '133125527', '5277036...\n",
       "1       «КОЛЛ  ['146822877', '90907483', '42448512', '1505008...\n",
       "2      «КОЛЛ»  ['146822877', '90907483', '42448512', '1505008...\n",
       "3      «ЛОНГ»  ['160189295', '148816134', '167367178', '45733...\n",
       "4  «МЕДВЕДЕЙ»                                       ['91197755']"
      ]
     },
     "execution_count": 27,
     "metadata": {},
     "output_type": "execute_result"
    }
   ],
   "source": [
    "words_and_groups_filtered = pd.read_csv('words_and_groups_filtered.csv')\n",
    "words_and_groups_filtered.head()"
   ]
  },
  {
   "cell_type": "code",
   "execution_count": null,
   "metadata": {},
   "outputs": [],
   "source": []
  }
 ],
 "metadata": {
  "colab": {
   "authorship_tag": "ABX9TyMo5I5XOR5oUNq84mJDPgYO",
   "include_colab_link": true,
   "name": "Сбор ID групп.ipynb",
   "provenance": []
  },
  "kernelspec": {
   "display_name": "Python 3",
   "language": "python",
   "name": "python3"
  },
  "language_info": {
   "codemirror_mode": {
    "name": "ipython",
    "version": 3
   },
   "file_extension": ".py",
   "mimetype": "text/x-python",
   "name": "python",
   "nbconvert_exporter": "python",
   "pygments_lexer": "ipython3",
   "version": "3.7.7"
  }
 },
 "nbformat": 4,
 "nbformat_minor": 1
}
