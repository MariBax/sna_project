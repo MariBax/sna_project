{
  "nbformat": 4,
  "nbformat_minor": 0,
  "metadata": {
    "colab": {
      "name": "graph_analytics.ipynb",
      "provenance": [],
      "collapsed_sections": []
    },
    "kernelspec": {
      "name": "python3",
      "display_name": "Python 3"
    }
  },
  "cells": [
    {
      "cell_type": "markdown",
      "metadata": {
        "id": "zz2gsLJ24V60",
        "colab_type": "text"
      },
      "source": [
        "## Groups and users\n",
        "\n",
        "Folder with files: https://drive.google.com/drive/folders/1F-pm_J-eKZAd7-PxnzZdCpKfAMlFs6Ke?usp=sharing\n",
        "\n",
        "You may add a shortcut to your drive and run this code on colab OR download files from gdrive and run locally."
      ]
    },
    {
      "cell_type": "code",
      "metadata": {
        "id": "flkHojzUtHhd",
        "colab_type": "code",
        "colab": {
          "base_uri": "https://localhost:8080/",
          "height": 35
        },
        "outputId": "84fd75f4-f2ad-4415-8d62-c2d0b4464d90"
      },
      "source": [
        "from google.colab import drive\n",
        "drive.mount('/content/drive')"
      ],
      "execution_count": 1,
      "outputs": [
        {
          "output_type": "stream",
          "text": [
            "Drive already mounted at /content/drive; to attempt to forcibly remount, call drive.mount(\"/content/drive\", force_remount=True).\n"
          ],
          "name": "stdout"
        }
      ]
    },
    {
      "cell_type": "code",
      "metadata": {
        "id": "Y5ATfr7BU4-g",
        "colab_type": "code",
        "colab": {}
      },
      "source": [
        "# !pip install vk_api"
      ],
      "execution_count": 2,
      "outputs": []
    },
    {
      "cell_type": "code",
      "metadata": {
        "id": "SvTUeDJqtO4b",
        "colab_type": "code",
        "colab": {}
      },
      "source": [
        "import itertools\n",
        "import vk_api\n",
        "import pandas as pd\n",
        "import networkx as nx\n",
        "import matplotlib.pyplot as plt\n",
        "\n",
        "from tqdm import tqdm"
      ],
      "execution_count": 3,
      "outputs": []
    },
    {
      "cell_type": "code",
      "metadata": {
        "id": "X46i2gxjtYdp",
        "colab_type": "code",
        "colab": {
          "base_uri": "https://localhost:8080/",
          "height": 198
        },
        "outputId": "3a428b98-2727-43e1-a20f-54c103265cc1"
      },
      "source": [
        "groups_and_users = pd.read_csv(\"/content/drive/My Drive/Angl/Группы и пользователи.csv\", header=None)\n",
        "groups_and_users.columns = ['Group', 'Users']\n",
        "groups_and_users.head()"
      ],
      "execution_count": 4,
      "outputs": [
        {
          "output_type": "execute_result",
          "data": {
            "text/html": [
              "<div>\n",
              "<style scoped>\n",
              "    .dataframe tbody tr th:only-of-type {\n",
              "        vertical-align: middle;\n",
              "    }\n",
              "\n",
              "    .dataframe tbody tr th {\n",
              "        vertical-align: top;\n",
              "    }\n",
              "\n",
              "    .dataframe thead th {\n",
              "        text-align: right;\n",
              "    }\n",
              "</style>\n",
              "<table border=\"1\" class=\"dataframe\">\n",
              "  <thead>\n",
              "    <tr style=\"text-align: right;\">\n",
              "      <th></th>\n",
              "      <th>Group</th>\n",
              "      <th>Users</th>\n",
              "    </tr>\n",
              "  </thead>\n",
              "  <tbody>\n",
              "    <tr>\n",
              "      <th>0</th>\n",
              "      <td>VK_-137472625</td>\n",
              "      <td>[101435, 105801, 191330, 353156, 485967, 66426...</td>\n",
              "    </tr>\n",
              "    <tr>\n",
              "      <th>1</th>\n",
              "      <td>VK_-110896651</td>\n",
              "      <td>[780934, 830001, 836222, 1004278, 1665190, 233...</td>\n",
              "    </tr>\n",
              "    <tr>\n",
              "      <th>2</th>\n",
              "      <td>VK_-196351490</td>\n",
              "      <td>[518436379]</td>\n",
              "    </tr>\n",
              "    <tr>\n",
              "      <th>3</th>\n",
              "      <td>VK_-184898993</td>\n",
              "      <td>[88448, 493832, 1591629, 2534553, 4198909, 428...</td>\n",
              "    </tr>\n",
              "    <tr>\n",
              "      <th>4</th>\n",
              "      <td>VK_-164251213</td>\n",
              "      <td>[5206505, 45741508, 58873119, 79030324, 132966...</td>\n",
              "    </tr>\n",
              "  </tbody>\n",
              "</table>\n",
              "</div>"
            ],
            "text/plain": [
              "           Group                                              Users\n",
              "0  VK_-137472625  [101435, 105801, 191330, 353156, 485967, 66426...\n",
              "1  VK_-110896651  [780934, 830001, 836222, 1004278, 1665190, 233...\n",
              "2  VK_-196351490                                        [518436379]\n",
              "3  VK_-184898993  [88448, 493832, 1591629, 2534553, 4198909, 428...\n",
              "4  VK_-164251213  [5206505, 45741508, 58873119, 79030324, 132966..."
            ]
          },
          "metadata": {
            "tags": []
          },
          "execution_count": 4
        }
      ]
    },
    {
      "cell_type": "code",
      "metadata": {
        "id": "WermSsJL47g1",
        "colab_type": "code",
        "colab": {
          "base_uri": "https://localhost:8080/",
          "height": 35
        },
        "outputId": "55a91ef4-1deb-495c-f595-5c744bbb4b79"
      },
      "source": [
        "groups_with_users = groups_and_users['Group'].tolist()\n",
        "print('Number of groups:', len(groups_with_users))"
      ],
      "execution_count": 5,
      "outputs": [
        {
          "output_type": "stream",
          "text": [
            "Number of groups: 9887\n"
          ],
          "name": "stdout"
        }
      ]
    },
    {
      "cell_type": "markdown",
      "metadata": {
        "id": "TBUeILE440cp",
        "colab_type": "text"
      },
      "source": [
        "### 1. Create graph\n",
        "\n",
        "We create a graph on all groups that we extracted.\n",
        "\n",
        "Nodes are groups and their members.\n",
        "\n",
        "There is an egde (group_i, user_j) if user_j is a member of group_i."
      ]
    },
    {
      "cell_type": "code",
      "metadata": {
        "id": "VOBvcxqrKoXx",
        "colab_type": "code",
        "colab": {}
      },
      "source": [
        "def create_graph(groups_and_users, sample_groups):\n",
        "    G = nx.Graph()\n",
        "    G.add_nodes_from(sample_groups)\n",
        "    \n",
        "    users = set()\n",
        "\n",
        "    for row_id in tqdm(range(len(groups_and_users))):\n",
        "        group = groups_and_users.iloc[row_id]['Group']\n",
        "        if group in sample_groups:\n",
        "            group_users = groups_and_users.iloc[row_id]['Users'][2:-2].split(', ')\n",
        "            for user in group_users:\n",
        "                users.add(user)\n",
        "            edges = [(group, user) for user in group_users]\n",
        "            G.add_edges_from(edges)\n",
        "\n",
        "    print('\\nGraph created...')\n",
        "    print('Number of nodes:', G.number_of_nodes())\n",
        "    print('Number of users:', len(users))\n",
        "    print('Number of edges:', G.number_of_edges())\n",
        "\n",
        "    return G, list(users)"
      ],
      "execution_count": 6,
      "outputs": []
    },
    {
      "cell_type": "code",
      "metadata": {
        "id": "6Q-3SAawTIdm",
        "colab_type": "code",
        "colab": {
          "base_uri": "https://localhost:8080/",
          "height": 121
        },
        "outputId": "541c8542-0dd4-4049-dd9e-566426a296a6"
      },
      "source": [
        "G, users_G = create_graph(groups_and_users, groups_with_users)"
      ],
      "execution_count": 7,
      "outputs": [
        {
          "output_type": "stream",
          "text": [
            "100%|██████████| 9887/9887 [00:31<00:00, 311.43it/s]\n"
          ],
          "name": "stderr"
        },
        {
          "output_type": "stream",
          "text": [
            "\n",
            "Graph created...\n",
            "Number of nodes: 4127357\n",
            "Number of users: 4117470\n",
            "Number of edges: 5917848\n"
          ],
          "name": "stdout"
        }
      ]
    },
    {
      "cell_type": "markdown",
      "metadata": {
        "id": "Jtk4k5iX9aql",
        "colab_type": "text"
      },
      "source": [
        "### 2. Top groups\n",
        "\n",
        "We extract the most active groups. The \"activness\" is measured by the (overall, not unique) number of anglicisms used."
      ]
    },
    {
      "cell_type": "code",
      "metadata": {
        "id": "gugShvyo9eY9",
        "colab_type": "code",
        "colab": {
          "base_uri": "https://localhost:8080/",
          "height": 138
        },
        "outputId": "bc1a2a40-a6b3-4a21-d5d1-c272ef33f112"
      },
      "source": [
        "posts_info = pd.read_csv(\"/content/drive/My Drive/Angl/posts_info.csv\")\n",
        "posts_info.head(3)"
      ],
      "execution_count": 8,
      "outputs": [
        {
          "output_type": "execute_result",
          "data": {
            "text/html": [
              "<div>\n",
              "<style scoped>\n",
              "    .dataframe tbody tr th:only-of-type {\n",
              "        vertical-align: middle;\n",
              "    }\n",
              "\n",
              "    .dataframe tbody tr th {\n",
              "        vertical-align: top;\n",
              "    }\n",
              "\n",
              "    .dataframe thead th {\n",
              "        text-align: right;\n",
              "    }\n",
              "</style>\n",
              "<table border=\"1\" class=\"dataframe\">\n",
              "  <thead>\n",
              "    <tr style=\"text-align: right;\">\n",
              "      <th></th>\n",
              "      <th>Unnamed: 0</th>\n",
              "      <th>AuthorID</th>\n",
              "      <th>OwnerID</th>\n",
              "      <th>CreatedDate</th>\n",
              "      <th>SearchQuery</th>\n",
              "      <th>AuthorType</th>\n",
              "      <th>OwnerType</th>\n",
              "    </tr>\n",
              "  </thead>\n",
              "  <tbody>\n",
              "    <tr>\n",
              "      <th>0</th>\n",
              "      <td>0</td>\n",
              "      <td>VK_-137472625</td>\n",
              "      <td>VK_-137472625</td>\n",
              "      <td>2020-06-16</td>\n",
              "      <td>войс</td>\n",
              "      <td>0</td>\n",
              "      <td>0</td>\n",
              "    </tr>\n",
              "    <tr>\n",
              "      <th>1</th>\n",
              "      <td>1</td>\n",
              "      <td>VK_-110896651</td>\n",
              "      <td>VK_-110896651</td>\n",
              "      <td>2020-06-16</td>\n",
              "      <td>войс</td>\n",
              "      <td>0</td>\n",
              "      <td>0</td>\n",
              "    </tr>\n",
              "    <tr>\n",
              "      <th>2</th>\n",
              "      <td>2</td>\n",
              "      <td>VK_-196351490</td>\n",
              "      <td>VK_-196351490</td>\n",
              "      <td>2020-06-15</td>\n",
              "      <td>войс</td>\n",
              "      <td>0</td>\n",
              "      <td>0</td>\n",
              "    </tr>\n",
              "  </tbody>\n",
              "</table>\n",
              "</div>"
            ],
            "text/plain": [
              "   Unnamed: 0       AuthorID        OwnerID  ... SearchQuery AuthorType  OwnerType\n",
              "0           0  VK_-137472625  VK_-137472625  ...        войс          0          0\n",
              "1           1  VK_-110896651  VK_-110896651  ...        войс          0          0\n",
              "2           2  VK_-196351490  VK_-196351490  ...        войс          0          0\n",
              "\n",
              "[3 rows x 7 columns]"
            ]
          },
          "metadata": {
            "tags": []
          },
          "execution_count": 8
        }
      ]
    },
    {
      "cell_type": "code",
      "metadata": {
        "id": "AHRPJUzW9ebj",
        "colab_type": "code",
        "colab": {
          "base_uri": "https://localhost:8080/",
          "height": 35
        },
        "outputId": "b66f4d18-ff96-444d-aa55-dbbd1347ef23"
      },
      "source": [
        "posts_info_groups = posts_info[posts_info['OwnerType'] == 0]\n",
        "groups_counts = dict(posts_info_groups.groupby('OwnerID').size())\n",
        "print('Number of unique groups in posts_info:', len(groups_counts))"
      ],
      "execution_count": 9,
      "outputs": [
        {
          "output_type": "stream",
          "text": [
            "Number of unique groups in posts_info: 25950\n"
          ],
          "name": "stdout"
        }
      ]
    },
    {
      "cell_type": "code",
      "metadata": {
        "id": "3dMpcRfyKMbx",
        "colab_type": "code",
        "colab": {}
      },
      "source": [
        "# sort to extract top groups\n",
        "\n",
        "sorted_groups_counts = [(k, v) for k, v in sorted(groups_counts.items(), key=lambda item: item[1])]"
      ],
      "execution_count": 24,
      "outputs": []
    },
    {
      "cell_type": "code",
      "metadata": {
        "id": "VYWhOogyKYYj",
        "colab_type": "code",
        "colab": {
          "base_uri": "https://localhost:8080/",
          "height": 190
        },
        "outputId": "abf2389f-e661-46b5-aeb6-f49d87233682"
      },
      "source": [
        "# top 10 active groups\n",
        "\n",
        "sorted_groups_counts[-10:]"
      ],
      "execution_count": 11,
      "outputs": [
        {
          "output_type": "execute_result",
          "data": {
            "text/plain": [
              "[('VK_-52079251', 43),\n",
              " ('VK_-72739547', 47),\n",
              " ('VK_-163818203', 49),\n",
              " ('VK_-171963681', 51),\n",
              " ('VK_-46035363', 56),\n",
              " ('VK_-140691640', 60),\n",
              " ('VK_-17985992', 95),\n",
              " ('VK_-190838425', 106),\n",
              " ('VK_-130326293', 114),\n",
              " ('VK_-72562540', 144)]"
            ]
          },
          "metadata": {
            "tags": []
          },
          "execution_count": 11
        }
      ]
    },
    {
      "cell_type": "markdown",
      "metadata": {
        "id": "XvtS_s7ATx2y",
        "colab_type": "text"
      },
      "source": [
        "### 3. Visualization of the graph on top 10 groups\n",
        "\n",
        "Since the graph on all groups is too large, we visualize a subgraph on 10 groups."
      ]
    },
    {
      "cell_type": "code",
      "metadata": {
        "id": "DAmMecXSKYa8",
        "colab_type": "code",
        "colab": {
          "base_uri": "https://localhost:8080/",
          "height": 121
        },
        "outputId": "de6307d7-1dee-4233-c625-bb32fbdea83f"
      },
      "source": [
        "sample_groups_0 = []\n",
        "\n",
        "for group, _ in sorted_groups_counts[::-1]:\n",
        "    if group in groups_with_users:\n",
        "        sample_groups_0.append(group)\n",
        "        if len(sample_groups_0) == 10:\n",
        "            break\n",
        "\n",
        "subG_0, users_subG_0 = create_graph(groups_and_users, sample_groups_0)"
      ],
      "execution_count": 12,
      "outputs": [
        {
          "output_type": "stream",
          "text": [
            "100%|██████████| 9887/9887 [00:01<00:00, 8692.62it/s]"
          ],
          "name": "stderr"
        },
        {
          "output_type": "stream",
          "text": [
            "\n",
            "Graph created...\n",
            "Number of nodes: 5071\n",
            "Number of users: 5061\n",
            "Number of edges: 5062\n"
          ],
          "name": "stdout"
        },
        {
          "output_type": "stream",
          "text": [
            "\n"
          ],
          "name": "stderr"
        }
      ]
    },
    {
      "cell_type": "code",
      "metadata": {
        "id": "tjzERlQSKnI-",
        "colab_type": "code",
        "colab": {}
      },
      "source": [
        "pos = nx.spring_layout(subG_0)"
      ],
      "execution_count": 13,
      "outputs": []
    },
    {
      "cell_type": "code",
      "metadata": {
        "id": "cumz3iYm9eeT",
        "colab_type": "code",
        "colab": {
          "base_uri": "https://localhost:8080/",
          "height": 482
        },
        "outputId": "93e88d9e-02b4-4e91-8242-7b54bbfc7562"
      },
      "source": [
        "plt.figure(figsize=(8, 8))\n",
        "nx.draw_networkx_nodes(subG_0, pos, users_subG_0, node_size=10)\n",
        "nx.draw_networkx_nodes(subG_0, pos, sample_groups_0, node_size=10, node_color='r')\n",
        "nx.draw_networkx_edges(subG_0, pos, alpha=0.5)\n",
        "plt.title('Network on 10 groups, red - group, blue - users')\n",
        "plt.show()"
      ],
      "execution_count": 14,
      "outputs": [
        {
          "output_type": "display_data",
          "data": {
            "image/png": "[encoded data removed]",
            "text/plain": [
              "<Figure size 576x576 with 1 Axes>"
            ]
          },
          "metadata": {
            "tags": []
          }
        }
      ]
    },
    {
      "cell_type": "markdown",
      "metadata": {
        "id": "xAx-gr0Wg5Q7",
        "colab_type": "text"
      },
      "source": [
        "It can be seen that selected groups do not have common members (except two groups that have only common one member)."
      ]
    },
    {
      "cell_type": "markdown",
      "metadata": {
        "id": "8j6gwDZt5cYK",
        "colab_type": "text"
      },
      "source": [
        "### 4. Analysis for subgraph on top 200 groups\n",
        "\n",
        "In this part, we analyse similarity of anglicisms and groups. We take top 200 groups and compute jaccard index for all pairs of groups. Then, we take pairs with the largest jaccard coefficient and gather the following information about them:\n",
        "\n",
        "* names\n",
        "* descriptions\n",
        "* anglicisms used"
      ]
    },
    {
      "cell_type": "code",
      "metadata": {
        "id": "rc__7erR5jHn",
        "colab_type": "code",
        "colab": {
          "base_uri": "https://localhost:8080/",
          "height": 121
        },
        "outputId": "38f61324-3708-4bbe-eed1-53556e809a57"
      },
      "source": [
        "# take 200 top groups\n",
        "\n",
        "sample_groups = []\n",
        "\n",
        "for group, _ in sorted_groups_counts[::-1]:\n",
        "    if group in groups_with_users:\n",
        "        sample_groups.append(group)\n",
        "        if len(sample_groups) == 200:\n",
        "            break\n",
        "\n",
        "subG, users_subG = create_graph(groups_and_users, sample_groups)"
      ],
      "execution_count": 15,
      "outputs": [
        {
          "output_type": "stream",
          "text": [
            "100%|██████████| 9887/9887 [00:01<00:00, 6350.05it/s]"
          ],
          "name": "stderr"
        },
        {
          "output_type": "stream",
          "text": [
            "\n",
            "Graph created...\n",
            "Number of nodes: 116581\n",
            "Number of users: 116381\n",
            "Number of edges: 118891\n"
          ],
          "name": "stdout"
        },
        {
          "output_type": "stream",
          "text": [
            "\n"
          ],
          "name": "stderr"
        }
      ]
    },
    {
      "cell_type": "markdown",
      "metadata": {
        "id": "zV3m4YXn5012",
        "colab_type": "text"
      },
      "source": [
        "#### Jaccard coefficient between groups"
      ]
    },
    {
      "cell_type": "code",
      "metadata": {
        "id": "GCYXzZw80xxf",
        "colab_type": "code",
        "colab": {
          "base_uri": "https://localhost:8080/",
          "height": 155
        },
        "outputId": "1692b06f-dac8-46e9-db13-faf0814a4994"
      },
      "source": [
        "group_pairs = itertools.product(sample_groups, sample_groups) # 40 000\n",
        "jaccard_subG = nx.jaccard_coefficient(subG, ebunch=group_pairs)\n",
        "jaccard_coeffs = []\n",
        "count = 0\n",
        "\n",
        "for pair in jaccard_subG:\n",
        "    if pair[0] != pair[1]:\n",
        "        jaccard_coeffs.append(pair)\n",
        "    if (count + 1) % 5000 == 0:\n",
        "        print('Done, ', count + 1)\n",
        "    count += 1"
      ],
      "execution_count": 16,
      "outputs": [
        {
          "output_type": "stream",
          "text": [
            "Done,  5000\n",
            "Done,  10000\n",
            "Done,  15000\n",
            "Done,  20000\n",
            "Done,  25000\n",
            "Done,  30000\n",
            "Done,  35000\n",
            "Done,  40000\n"
          ],
          "name": "stdout"
        }
      ]
    },
    {
      "cell_type": "code",
      "metadata": {
        "id": "e7GiGo1S2HhJ",
        "colab_type": "code",
        "colab": {}
      },
      "source": [
        "jaccard_sorted = sorted(jaccard_coeffs, key = lambda item: item[2])[::2] # each pair appears twice"
      ],
      "execution_count": 17,
      "outputs": []
    },
    {
      "cell_type": "code",
      "metadata": {
        "id": "Cj_Kh2lV22ig",
        "colab_type": "code",
        "colab": {
          "base_uri": "https://localhost:8080/",
          "height": 190
        },
        "outputId": "04f6007c-65ca-4b9d-f9bf-def360bc6fff"
      },
      "source": [
        "# top similar pairs\n",
        "\n",
        "jaccard_sorted[-10:]"
      ],
      "execution_count": 18,
      "outputs": [
        {
          "output_type": "execute_result",
          "data": {
            "text/plain": [
              "[('VK_-190838425', 'VK_-96261838', 0.021450459652706845),\n",
              " ('VK_-172592337', 'VK_-175904320', 0.024077868852459015),\n",
              " ('VK_-367805', 'VK_-153654264', 0.0336676217765043),\n",
              " ('VK_-67339967', 'VK_-176319013', 0.035732780942516834),\n",
              " ('VK_-172592337', 'VK_-94742076', 0.043319415448851775),\n",
              " ('VK_-193037104', 'VK_-33602050', 0.04931794333683106),\n",
              " ('VK_-136166858', 'VK_-136166844', 0.049868766404199474),\n",
              " ('VK_-86678270', 'VK_-72090109', 0.325),\n",
              " ('VK_-134463812', 'VK_-72090109', 0.3939393939393939),\n",
              " ('VK_-86678270', 'VK_-134463812', 0.41025641025641024)]"
            ]
          },
          "metadata": {
            "tags": []
          },
          "execution_count": 18
        }
      ]
    },
    {
      "cell_type": "code",
      "metadata": {
        "id": "CDpUtSnFR1sV",
        "colab_type": "code",
        "colab": {}
      },
      "source": [
        "login = ### ENTER YOUR LOGIN HERE\n",
        "password = ### ENTER YOUR PASSWORD HERE\n",
        "vk_session = vk_api.VkApi(login, password)\n",
        "vk_session.auth()\n",
        "\n",
        "vk = vk_session.get_api()"
      ],
      "execution_count": 19,
      "outputs": []
    },
    {
      "cell_type": "code",
      "metadata": {
        "id": "SPboktXoVYgG",
        "colab_type": "code",
        "colab": {}
      },
      "source": [
        "# dataframe with results\n",
        "\n",
        "top_jaccard_groups = pd.DataFrame(columns=['Jaccard',\n",
        "                                           'Group_1_id',\n",
        "                                           'Group_1_name',\n",
        "                                           'Group_2_id',\n",
        "                                           'Group_2_name',\n",
        "                                           'Group_1_words',\n",
        "                                           'Group_2_words',\n",
        "                                           'Group_1_desc',\n",
        "                                           'Group_2_desc',\n",
        "                                           ])"
      ],
      "execution_count": 20,
      "outputs": []
    },
    {
      "cell_type": "code",
      "metadata": {
        "id": "dfNOUGz_VHqs",
        "colab_type": "code",
        "colab": {}
      },
      "source": [
        "top_jaccard = jaccard_sorted[-20:]\n",
        "\n",
        "for pair in top_jaccard[::-1]:\n",
        "    group_1_info = vk.groups.getById(group_ids=pair[0][4:], fields='description')\n",
        "    group_2_info = vk.groups.getById(group_ids=pair[1][4:], fields='description')\n",
        "\n",
        "    group_1_words = posts_info_groups[posts_info_groups['OwnerID'] == pair[0]]['SearchQuery'].unique().tolist()\n",
        "    group_2_words = posts_info_groups[posts_info_groups['OwnerID'] == pair[1]]['SearchQuery'].unique().tolist()\n",
        "\n",
        "    pair_info = {'Jaccard': pair[2],\n",
        "                 'Group_1_id': pair[0][4:],\n",
        "                 'Group_1_name': group_1_info[0]['name'],\n",
        "                 'Group_2_id': pair[1][4:],\n",
        "                 'Group_2_name': group_2_info[0]['name'],\n",
        "                 'Group_1_words': group_1_words,\n",
        "                 'Group_2_words': group_2_words,\n",
        "                 'Group_1_desc': group_1_info[0]['description'],\n",
        "                 'Group_2_desc': group_2_info[0]['description']}\n",
        "\n",
        "    top_jaccard_groups = top_jaccard_groups.append(pair_info, ignore_index=True)"
      ],
      "execution_count": 21,
      "outputs": []
    },
    {
      "cell_type": "code",
      "metadata": {
        "id": "vG4F4GphYNeC",
        "colab_type": "code",
        "colab": {
          "base_uri": "https://localhost:8080/",
          "height": 1000
        },
        "outputId": "4e188912-abc9-423c-82d6-9f9dc1604835"
      },
      "source": [
        "top_jaccard_groups"
      ],
      "execution_count": 22,
      "outputs": [
        {
          "output_type": "execute_result",
          "data": {
            "text/html": [
              "<div>\n",
              "<style scoped>\n",
              "    .dataframe tbody tr th:only-of-type {\n",
              "        vertical-align: middle;\n",
              "    }\n",
              "\n",
              "    .dataframe tbody tr th {\n",
              "        vertical-align: top;\n",
              "    }\n",
              "\n",
              "    .dataframe thead th {\n",
              "        text-align: right;\n",
              "    }\n",
              "</style>\n",
              "<table border=\"1\" class=\"dataframe\">\n",
              "  <thead>\n",
              "    <tr style=\"text-align: right;\">\n",
              "      <th></th>\n",
              "      <th>Jaccard</th>\n",
              "      <th>Group_1_id</th>\n",
              "      <th>Group_1_name</th>\n",
              "      <th>Group_2_id</th>\n",
              "      <th>Group_2_name</th>\n",
              "      <th>Group_1_words</th>\n",
              "      <th>Group_2_words</th>\n",
              "      <th>Group_1_desc</th>\n",
              "      <th>Group_2_desc</th>\n",
              "    </tr>\n",
              "  </thead>\n",
              "  <tbody>\n",
              "    <tr>\n",
              "      <th>0</th>\n",
              "      <td>0.410256</td>\n",
              "      <td>86678270</td>\n",
              "      <td>Студия Аналитики</td>\n",
              "      <td>134463812</td>\n",
              "      <td>Reddit-Life. Dota 2</td>\n",
              "      <td>[ультимейт, глобал, хайграунд, дамажить, ачивка]</td>\n",
              "      <td>[ультимейт, хайграунд, дамажить, ачивка, импакт]</td>\n",
              "      <td>Новости о Dota 2, киберспорте и жизни киберспо...</td>\n",
              "      <td>Место, где живут все драмы из мира Dota 2.\\n\\n...</td>\n",
              "    </tr>\n",
              "    <tr>\n",
              "      <th>1</th>\n",
              "      <td>0.393939</td>\n",
              "      <td>134463812</td>\n",
              "      <td>Reddit-Life. Dota 2</td>\n",
              "      <td>72090109</td>\n",
              "      <td>Киберспорт и игры</td>\n",
              "      <td>[ультимейт, хайграунд, дамажить, ачивка, импакт]</td>\n",
              "      <td>[ультимейт, хайграунд, ачивка, апать, импакт, ...</td>\n",
              "      <td>Место, где живут все драмы из мира Dota 2.\\n\\n...</td>\n",
              "      <td>Все новости лучших видеоигр мира: Dota 2, CS:G...</td>\n",
              "    </tr>\n",
              "    <tr>\n",
              "      <th>2</th>\n",
              "      <td>0.325000</td>\n",
              "      <td>86678270</td>\n",
              "      <td>Студия Аналитики</td>\n",
              "      <td>72090109</td>\n",
              "      <td>Киберспорт и игры</td>\n",
              "      <td>[ультимейт, глобал, хайграунд, дамажить, ачивка]</td>\n",
              "      <td>[ультимейт, хайграунд, ачивка, апать, импакт, ...</td>\n",
              "      <td>Новости о Dota 2, киберспорте и жизни киберспо...</td>\n",
              "      <td>Все новости лучших видеоигр мира: Dota 2, CS:G...</td>\n",
              "    </tr>\n",
              "    <tr>\n",
              "      <th>3</th>\n",
              "      <td>0.049869</td>\n",
              "      <td>136166858</td>\n",
              "      <td>Vape Барахолка Нижний Новгород | Вейп</td>\n",
              "      <td>136166844</td>\n",
              "      <td>Vape Барахолка Пенза | Вейп</td>\n",
              "      <td>[вейпер]</td>\n",
              "      <td>[вейпер]</td>\n",
              "      <td>Vape Нижний Новгород – электронные сигареты Ни...</td>\n",
              "      <td>Vape Пенза – электронные сигареты Пенза. В наш...</td>\n",
              "    </tr>\n",
              "    <tr>\n",
              "      <th>4</th>\n",
              "      <td>0.049318</td>\n",
              "      <td>193037104</td>\n",
              "      <td>Revolution Trading</td>\n",
              "      <td>33602050</td>\n",
              "      <td>Поиск Ролевиков | Соигроков | Конференции</td>\n",
              "      <td>[брифинг, инсайд]</td>\n",
              "      <td>[гейм, ультимейт, абьюз, лайкооткликаемо]</td>\n",
              "      <td>Информация, представленная в сообществе, носит...</td>\n",
              "      <td></td>\n",
              "    </tr>\n",
              "    <tr>\n",
              "      <th>5</th>\n",
              "      <td>0.043319</td>\n",
              "      <td>172592337</td>\n",
              "      <td>Stopgame.ru News</td>\n",
              "      <td>94742076</td>\n",
              "      <td>ИЩУ_ДИЗАЙНЕРА</td>\n",
              "      <td>[геймер, геймплей, гифка, девелопер, ачивка]</td>\n",
              "      <td>[гайдлайн, гейм]</td>\n",
              "      <td>Подпишись, чтобы быть в курсе самых горячих и ...</td>\n",
              "      <td>Свежие вакансии для дизайнеров. Как в офис, та...</td>\n",
              "    </tr>\n",
              "    <tr>\n",
              "      <th>6</th>\n",
              "      <td>0.035733</td>\n",
              "      <td>67339967</td>\n",
              "      <td>Дерзкий Волк</td>\n",
              "      <td>176319013</td>\n",
              "      <td>Эротические гифки [мемы/секс/порно/Brazzers]</td>\n",
              "      <td>[гифка]</td>\n",
              "      <td>[гифка]</td>\n",
              "      <td></td>\n",
              "      <td>Здесь вы найдете лучшие эротические гифки\\n⛔ З...</td>\n",
              "    </tr>\n",
              "    <tr>\n",
              "      <th>7</th>\n",
              "      <td>0.033668</td>\n",
              "      <td>367805</td>\n",
              "      <td>ProJapan: доставка мотоциклов из Японии.</td>\n",
              "      <td>153654264</td>\n",
              "      <td>Женская одежда \"AVILI\" И \"CHARUTTI\"</td>\n",
              "      <td>[фазер, хаггер]</td>\n",
              "      <td>[вау, изи, кэжуал]</td>\n",
              "      <td>Привозим любые мотоциклы из Японии под заказ в...</td>\n",
              "      <td>Добро пожаловать в группу! Высокое качество од...</td>\n",
              "    </tr>\n",
              "    <tr>\n",
              "      <th>8</th>\n",
              "      <td>0.024078</td>\n",
              "      <td>172592337</td>\n",
              "      <td>Stopgame.ru News</td>\n",
              "      <td>175904320</td>\n",
              "      <td>СОВМЕСТНЫЕ  ПОКУПКИ  \"МАМКИ\"  ЧЕРЕПОВЕЦ</td>\n",
              "      <td>[геймер, геймплей, гифка, девелопер, ачивка]</td>\n",
              "      <td>[бэби, глиттер, блэкаут]</td>\n",
              "      <td>Подпишись, чтобы быть в курсе самых горячих и ...</td>\n",
              "      <td>Рады приветствовать Вас в нашей группе!\\n\\nЗде...</td>\n",
              "    </tr>\n",
              "    <tr>\n",
              "      <th>9</th>\n",
              "      <td>0.021450</td>\n",
              "      <td>190838425</td>\n",
              "      <td>ТУРЫ без комиссии</td>\n",
              "      <td>96261838</td>\n",
              "      <td>VAPE УЛЬЯНОВСК</td>\n",
              "      <td>[райтинг]</td>\n",
              "      <td>[вейпер]</td>\n",
              "      <td>ТУРЫ без комиссии - это...\\n💰 Выгодно: здесь В...</td>\n",
              "      <td>Vape Ульяновск – электронные сигареты Ульяновс...</td>\n",
              "    </tr>\n",
              "    <tr>\n",
              "      <th>10</th>\n",
              "      <td>0.018849</td>\n",
              "      <td>124158069</td>\n",
              "      <td>Голод - не тётка, а мать родная! Голодание</td>\n",
              "      <td>141774282</td>\n",
              "      <td>Dark Lynx review</td>\n",
              "      <td>[бэби, имиджмейкер]</td>\n",
              "      <td>[геймер, геймплей, гифка, баксы, девелопер, ач...</td>\n",
              "      <td>Всё о лечебном голодании и системном оздоровле...</td>\n",
              "      <td>Новости игрового мира, трейлеры к новым фильма...</td>\n",
              "    </tr>\n",
              "    <tr>\n",
              "      <th>11</th>\n",
              "      <td>0.018330</td>\n",
              "      <td>67339967</td>\n",
              "      <td>Дерзкий Волк</td>\n",
              "      <td>16413058</td>\n",
              "      <td>◄Типова житуха►</td>\n",
              "      <td>[гифка]</td>\n",
              "      <td>[гифка, файербол]</td>\n",
              "      <td></td>\n",
              "      <td>всё по кайфу братиш</td>\n",
              "    </tr>\n",
              "    <tr>\n",
              "      <th>12</th>\n",
              "      <td>0.018330</td>\n",
              "      <td>136166909</td>\n",
              "      <td>Vape Барахолка Челябинск | Вейп</td>\n",
              "      <td>131857853</td>\n",
              "      <td>Vape Вейп Барахолка Крым Симферополь Севастополь</td>\n",
              "      <td>[вейпер]</td>\n",
              "      <td>[вейпер]</td>\n",
              "      <td>Vape Челябинск – электронные сигареты Челябинс...</td>\n",
              "      <td>Vape Вейп Крым (Симферополь, Севастополь, Евпа...</td>\n",
              "    </tr>\n",
              "    <tr>\n",
              "      <th>13</th>\n",
              "      <td>0.017821</td>\n",
              "      <td>49700227</td>\n",
              "      <td>ЛЕЧЕНИЕ СОДОЙ•ПЕРЕКИСЬЮ ВОДОРОДА•ГОЛОДАНИЕМ</td>\n",
              "      <td>172592337</td>\n",
              "      <td>Stopgame.ru News</td>\n",
              "      <td>[бэби, имиджмейкер]</td>\n",
              "      <td>[геймер, геймплей, гифка, девелопер, ачивка]</td>\n",
              "      <td>🌈 Подпишись на рассылку! bit.ly/2JczPBr\\n💥Ближ...</td>\n",
              "      <td>Подпишись, чтобы быть в курсе самых горячих и ...</td>\n",
              "    </tr>\n",
              "    <tr>\n",
              "      <th>14</th>\n",
              "      <td>0.016260</td>\n",
              "      <td>175904320</td>\n",
              "      <td>СОВМЕСТНЫЕ  ПОКУПКИ  \"МАМКИ\"  ЧЕРЕПОВЕЦ</td>\n",
              "      <td>94742076</td>\n",
              "      <td>ИЩУ_ДИЗАЙНЕРА</td>\n",
              "      <td>[бэби, глиттер, блэкаут]</td>\n",
              "      <td>[гайдлайн, гейм]</td>\n",
              "      <td>Рады приветствовать Вас в нашей группе!\\n\\nЗде...</td>\n",
              "      <td>Свежие вакансии для дизайнеров. Как в офис, та...</td>\n",
              "    </tr>\n",
              "    <tr>\n",
              "      <th>15</th>\n",
              "      <td>0.015744</td>\n",
              "      <td>141774282</td>\n",
              "      <td>Dark Lynx review</td>\n",
              "      <td>76050253</td>\n",
              "      <td>СП ПокупОчки за чашечкой чая</td>\n",
              "      <td>[геймер, геймплей, гифка, баксы, девелопер, ач...</td>\n",
              "      <td>[вау, глиттер]</td>\n",
              "      <td>Новости игрового мира, трейлеры к новым фильма...</td>\n",
              "      <td>Женский допинг — это шоппинг!</td>\n",
              "    </tr>\n",
              "    <tr>\n",
              "      <th>16</th>\n",
              "      <td>0.014842</td>\n",
              "      <td>140691640</td>\n",
              "      <td>Overwatch School</td>\n",
              "      <td>103726238</td>\n",
              "      <td>Anak | Overwatch, Стримы</td>\n",
              "      <td>[ультимейт, хайграунд]</td>\n",
              "      <td>[ультимейт, хайграунд, апать]</td>\n",
              "      <td>Мы сообщество, упор которого нацелен на обучаю...</td>\n",
              "      <td>Группа по Овервотч посвящена деятельности Анак...</td>\n",
              "    </tr>\n",
              "    <tr>\n",
              "      <th>17</th>\n",
              "      <td>0.013171</td>\n",
              "      <td>67648706</td>\n",
              "      <td>Мелитопольское освободительное движение !!!</td>\n",
              "      <td>56668405</td>\n",
              "      <td>МЕТОДЫ ЛЕЧЕНИЯ НАДЕЖДЫ СЕМЕНОВОЙ очищение эко</td>\n",
              "      <td>[вау, брифинг, файна, хаггер, хазбенд]</td>\n",
              "      <td>[бэби, имиджмейкер]</td>\n",
              "      <td>Против окупации русско язычного народа!!!\\nНе ...</td>\n",
              "      <td>Болезни у человека возникают в результате его ...</td>\n",
              "    </tr>\n",
              "    <tr>\n",
              "      <th>18</th>\n",
              "      <td>0.013171</td>\n",
              "      <td>56668405</td>\n",
              "      <td>МЕТОДЫ ЛЕЧЕНИЯ НАДЕЖДЫ СЕМЕНОВОЙ очищение эко</td>\n",
              "      <td>67648706</td>\n",
              "      <td>Мелитопольское освободительное движение !!!</td>\n",
              "      <td>[бэби, имиджмейкер]</td>\n",
              "      <td>[вау, брифинг, файна, хаггер, хазбенд]</td>\n",
              "      <td>Болезни у человека возникают в результате его ...</td>\n",
              "      <td>Против окупации русско язычного народа!!!\\nНе ...</td>\n",
              "    </tr>\n",
              "    <tr>\n",
              "      <th>19</th>\n",
              "      <td>0.012658</td>\n",
              "      <td>49700227</td>\n",
              "      <td>ЛЕЧЕНИЕ СОДОЙ•ПЕРЕКИСЬЮ ВОДОРОДА•ГОЛОДАНИЕМ</td>\n",
              "      <td>94742076</td>\n",
              "      <td>ИЩУ_ДИЗАЙНЕРА</td>\n",
              "      <td>[бэби, имиджмейкер]</td>\n",
              "      <td>[гайдлайн, гейм]</td>\n",
              "      <td>🌈 Подпишись на рассылку! bit.ly/2JczPBr\\n💥Ближ...</td>\n",
              "      <td>Свежие вакансии для дизайнеров. Как в офис, та...</td>\n",
              "    </tr>\n",
              "  </tbody>\n",
              "</table>\n",
              "</div>"
            ],
            "text/plain": [
              "     Jaccard  ...                                       Group_2_desc\n",
              "0   0.410256  ...  Место, где живут все драмы из мира Dota 2.\\n\\n...\n",
              "1   0.393939  ...  Все новости лучших видеоигр мира: Dota 2, CS:G...\n",
              "2   0.325000  ...  Все новости лучших видеоигр мира: Dota 2, CS:G...\n",
              "3   0.049869  ...  Vape Пенза – электронные сигареты Пенза. В наш...\n",
              "4   0.049318  ...                                                   \n",
              "5   0.043319  ...  Свежие вакансии для дизайнеров. Как в офис, та...\n",
              "6   0.035733  ...  Здесь вы найдете лучшие эротические гифки\\n⛔ З...\n",
              "7   0.033668  ...  Добро пожаловать в группу! Высокое качество од...\n",
              "8   0.024078  ...  Рады приветствовать Вас в нашей группе!\\n\\nЗде...\n",
              "9   0.021450  ...  Vape Ульяновск – электронные сигареты Ульяновс...\n",
              "10  0.018849  ...  Новости игрового мира, трейлеры к новым фильма...\n",
              "11  0.018330  ...                                всё по кайфу братиш\n",
              "12  0.018330  ...  Vape Вейп Крым (Симферополь, Севастополь, Евпа...\n",
              "13  0.017821  ...  Подпишись, чтобы быть в курсе самых горячих и ...\n",
              "14  0.016260  ...  Свежие вакансии для дизайнеров. Как в офис, та...\n",
              "15  0.015744  ...                      Женский допинг — это шоппинг!\n",
              "16  0.014842  ...  Группа по Овервотч посвящена деятельности Анак...\n",
              "17  0.013171  ...  Болезни у человека возникают в результате его ...\n",
              "18  0.013171  ...  Против окупации русско язычного народа!!!\\nНе ...\n",
              "19  0.012658  ...  Свежие вакансии для дизайнеров. Как в офис, та...\n",
              "\n",
              "[20 rows x 9 columns]"
            ]
          },
          "metadata": {
            "tags": []
          },
          "execution_count": 22
        }
      ]
    },
    {
      "cell_type": "code",
      "metadata": {
        "id": "9l7mHP0bVHvy",
        "colab_type": "code",
        "colab": {}
      },
      "source": [
        "top_jaccard_groups.to_csv('/content/drive/My Drive/Angl/top_jaccard_groups.csv', index=None)"
      ],
      "execution_count": 23,
      "outputs": []
    },
    {
      "cell_type": "markdown",
      "metadata": {
        "id": "tQN2Ci4ch0MU",
        "colab_type": "text"
      },
      "source": [
        "It can be seen that the highest jaccard index is 0.41 which is surprisingly high taking into account the fact that the limit of the number of group members is 1000 :)\n",
        "\n",
        "As for the set of pairs with top jaccard index, there are a lot of groups about games (especially Dota 2) and their common anglicisms are [ультимейт, глобал, хайграунд, дамажить, ачивка] which is expectable.\n",
        "\n",
        "We can make a conclusion that it is possible to get information about anglicisms and their connections with such a data. Moreover, the results are pretty interesting to observe)\n",
        "\n",
        "Further reserach:\n",
        "\n",
        "1) Increase the vocabulary and gather more data.\n",
        "\n",
        "2) Run the analysis on larger data.\n",
        "\n",
        "3) Research not only groups but also users connections.\n",
        "\n",
        "4) Clusterization and extraction of clusters of words: try to unite words in groups.\n",
        "\n"
      ]
    },
    {
      "cell_type": "code",
      "metadata": {
        "id": "aEW2qQPORExX",
        "colab_type": "code",
        "colab": {}
      },
      "source": [
        ""
      ],
      "execution_count": 23,
      "outputs": []
    }
  ]
}