{
<<<<<<< HEAD
  "nbformat": 4,
  "nbformat_minor": 0,
  "metadata": {
    "colab": {
      "name": "json_parsing.ipynb",
      "provenance": [],
      "collapsed_sections": []
    },
    "kernelspec": {
      "name": "python3",
      "display_name": "Python 3"
    }
  },
  "cells": [
    {
      "cell_type": "code",
      "metadata": {
        "id": "aw1j1bFn92xQ",
        "colab_type": "code",
        "colab": {
          "base_uri": "https://localhost:8080/",
          "height": 35
        },
        "outputId": "88794269-cef1-4656-84fa-9664ad549879"
      },
      "source": [
        "from google.colab import drive\n",
        "drive.mount('/content/drive')"
      ],
      "execution_count": 1,
      "outputs": [
        {
          "output_type": "stream",
          "text": [
            "Drive already mounted at /content/drive; to attempt to forcibly remount, call drive.mount(\"/content/drive\", force_remount=True).\n"
          ],
          "name": "stdout"
        }
      ]
    },
    {
      "cell_type": "code",
      "metadata": {
        "id": "nQ-P9pVshE5T",
        "colab_type": "code",
        "colab": {}
      },
      "source": [
        "import json\n",
        "import codecs\n",
        "import pandas as pd\n",
        "from tqdm import tqdm"
      ],
      "execution_count": 0,
      "outputs": []
    },
    {
      "cell_type": "code",
      "metadata": {
        "id": "u2Asje29kIcN",
        "colab_type": "code",
        "colab": {}
      },
      "source": [
        "posts = json.load(codecs.open('/content/drive/My Drive/Angl/Posts.json', 'r', 'utf-8-sig'))"
      ],
      "execution_count": 0,
      "outputs": []
    },
    {
      "cell_type": "code",
      "metadata": {
        "id": "xwWxEgx8oDAw",
        "colab_type": "code",
        "colab": {
          "base_uri": "https://localhost:8080/",
          "height": 35
        },
        "outputId": "366918cd-fa12-46e6-fb36-b335e3fb372c"
      },
      "source": [
        "len(posts)"
      ],
      "execution_count": 6,
      "outputs": [
        {
          "output_type": "execute_result",
          "data": {
            "text/plain": [
              "53800"
            ]
          },
          "metadata": {
            "tags": []
          },
          "execution_count": 6
        }
      ]
    },
    {
      "cell_type": "code",
      "metadata": {
        "id": "CY8HJDzXoGVH",
        "colab_type": "code",
        "colab": {}
      },
      "source": [
        "data = pd.DataFrame(columns=['AuthorID', \n",
        "                             'OwnerID',\n",
        "                             'CreatedDate',\n",
        "                             'SearchQuery',\n",
        "                             'AuthorType',\n",
        "                             'OwnerType',\n",
        "                             ])"
      ],
      "execution_count": 0,
      "outputs": []
    },
    {
      "cell_type": "code",
      "metadata": {
        "id": "gAK0Hqjnoj4C",
        "colab_type": "code",
        "colab": {
          "base_uri": "https://localhost:8080/",
          "height": 35
        },
        "outputId": "db311fe2-c39c-43c7-bcf7-0352ee7b0375"
      },
      "source": [
        "for post in tqdm(posts):\n",
        "    if '-' in post['AuthorID']:\n",
        "        author_type = 0 # group\n",
        "    else:\n",
        "        author_type = 1 # user\n",
        "\n",
        "    if '-' in post['OwnerID']:\n",
        "        owner_type = 0 # group\n",
        "    else:\n",
        "        owner_type = 1 # user\n",
        "\n",
        "    info = {'AuthorID': post['AuthorID'], \n",
        "            'OwnerID': post['OwnerID'],\n",
        "            'CreatedDate': post['CreatedDate'][:10], # 'yyyy-mm-dd'\n",
        "            'SearchQuery': post['Snippets'][0]['SearchQuery'],\n",
        "            'AuthorType': author_type,\n",
        "            'OwnerType': owner_type}\n",
        "\n",
        "    # print(info)\n",
        "    \n",
        "    data = data.append(info, ignore_index=True)    "
      ],
      "execution_count": 9,
      "outputs": [
        {
          "output_type": "stream",
          "text": [
            "100%|██████████| 53800/53800 [15:10<00:00, 59.11it/s]\n"
          ],
          "name": "stderr"
        }
      ]
    },
    {
      "cell_type": "code",
      "metadata": {
        "id": "PcJkp944-qx0",
        "colab_type": "code",
        "colab": {}
      },
      "source": [
        "# save\n",
        "data.to_csv('/content/drive/My Drive/Angl/posts_info.csv')"
      ],
      "execution_count": 0,
      "outputs": []
    },
    {
      "cell_type": "code",
      "metadata": {
        "id": "lvue11ZVrsVE",
        "colab_type": "code",
        "colab": {
          "base_uri": "https://localhost:8080/",
          "height": 202
        },
        "outputId": "9a64b535-e3a3-47aa-db3b-48cf0716cd77"
      },
      "source": [
        "data.head()"
      ],
      "execution_count": 10,
      "outputs": [
        {
          "output_type": "execute_result",
          "data": {
            "text/html": [
              "<div>\n",
              "<style scoped>\n",
              "    .dataframe tbody tr th:only-of-type {\n",
              "        vertical-align: middle;\n",
              "    }\n",
              "\n",
              "    .dataframe tbody tr th {\n",
              "        vertical-align: top;\n",
              "    }\n",
              "\n",
              "    .dataframe thead th {\n",
              "        text-align: right;\n",
              "    }\n",
              "</style>\n",
              "<table border=\"1\" class=\"dataframe\">\n",
              "  <thead>\n",
              "    <tr style=\"text-align: right;\">\n",
              "      <th></th>\n",
              "      <th>AuthorID</th>\n",
              "      <th>OwnerID</th>\n",
              "      <th>CreatedDate</th>\n",
              "      <th>SearchQuery</th>\n",
              "      <th>AuthorType</th>\n",
              "      <th>OwnerType</th>\n",
              "    </tr>\n",
              "  </thead>\n",
              "  <tbody>\n",
              "    <tr>\n",
              "      <th>0</th>\n",
              "      <td>VK_-137472625</td>\n",
              "      <td>VK_-137472625</td>\n",
              "      <td>2020-06-16</td>\n",
              "      <td>войс</td>\n",
              "      <td>0</td>\n",
              "      <td>0</td>\n",
              "    </tr>\n",
              "    <tr>\n",
              "      <th>1</th>\n",
              "      <td>VK_-110896651</td>\n",
              "      <td>VK_-110896651</td>\n",
              "      <td>2020-06-16</td>\n",
              "      <td>войс</td>\n",
              "      <td>0</td>\n",
              "      <td>0</td>\n",
              "    </tr>\n",
              "    <tr>\n",
              "      <th>2</th>\n",
              "      <td>VK_-196351490</td>\n",
              "      <td>VK_-196351490</td>\n",
              "      <td>2020-06-15</td>\n",
              "      <td>войс</td>\n",
              "      <td>0</td>\n",
              "      <td>0</td>\n",
              "    </tr>\n",
              "    <tr>\n",
              "      <th>3</th>\n",
              "      <td>VK_-184898993</td>\n",
              "      <td>VK_-184898993</td>\n",
              "      <td>2020-06-15</td>\n",
              "      <td>войс</td>\n",
              "      <td>0</td>\n",
              "      <td>0</td>\n",
              "    </tr>\n",
              "    <tr>\n",
              "      <th>4</th>\n",
              "      <td>VK_-164251213</td>\n",
              "      <td>VK_-164251213</td>\n",
              "      <td>2020-06-15</td>\n",
              "      <td>войс</td>\n",
              "      <td>0</td>\n",
              "      <td>0</td>\n",
              "    </tr>\n",
              "  </tbody>\n",
              "</table>\n",
              "</div>"
            ],
            "text/plain": [
              "        AuthorID        OwnerID CreatedDate SearchQuery AuthorType OwnerType\n",
              "0  VK_-137472625  VK_-137472625  2020-06-16        войс          0         0\n",
              "1  VK_-110896651  VK_-110896651  2020-06-16        войс          0         0\n",
              "2  VK_-196351490  VK_-196351490  2020-06-15        войс          0         0\n",
              "3  VK_-184898993  VK_-184898993  2020-06-15        войс          0         0\n",
              "4  VK_-164251213  VK_-164251213  2020-06-15        войс          0         0"
            ]
          },
          "metadata": {
            "tags": []
          },
          "execution_count": 10
        }
      ]
    },
    {
      "cell_type": "code",
      "metadata": {
        "id": "qAxTme9ilKFR",
        "colab_type": "code",
        "colab": {
          "base_uri": "https://localhost:8080/",
          "height": 202
        },
        "outputId": "0b8e2b63-c5e3-4c2a-b4e4-0925564a1826"
      },
      "source": [
        "data.tail()"
      ],
      "execution_count": 12,
      "outputs": [
        {
          "output_type": "execute_result",
          "data": {
            "text/html": [
              "<div>\n",
              "<style scoped>\n",
              "    .dataframe tbody tr th:only-of-type {\n",
              "        vertical-align: middle;\n",
              "    }\n",
              "\n",
              "    .dataframe tbody tr th {\n",
              "        vertical-align: top;\n",
              "    }\n",
              "\n",
              "    .dataframe thead th {\n",
              "        text-align: right;\n",
              "    }\n",
              "</style>\n",
              "<table border=\"1\" class=\"dataframe\">\n",
              "  <thead>\n",
              "    <tr style=\"text-align: right;\">\n",
              "      <th></th>\n",
              "      <th>AuthorID</th>\n",
              "      <th>OwnerID</th>\n",
              "      <th>CreatedDate</th>\n",
              "      <th>SearchQuery</th>\n",
              "      <th>AuthorType</th>\n",
              "      <th>OwnerType</th>\n",
              "    </tr>\n",
              "  </thead>\n",
              "  <tbody>\n",
              "    <tr>\n",
              "      <th>53795</th>\n",
              "      <td>VK_-164193141</td>\n",
              "      <td>VK_-164193141</td>\n",
              "      <td>2020-06-09</td>\n",
              "      <td>мазер</td>\n",
              "      <td>0</td>\n",
              "      <td>0</td>\n",
              "    </tr>\n",
              "    <tr>\n",
              "      <th>53796</th>\n",
              "      <td>VK_-49207913</td>\n",
              "      <td>VK_-49207913</td>\n",
              "      <td>2020-06-09</td>\n",
              "      <td>мазер</td>\n",
              "      <td>0</td>\n",
              "      <td>0</td>\n",
              "    </tr>\n",
              "    <tr>\n",
              "      <th>53797</th>\n",
              "      <td>VK_153549451</td>\n",
              "      <td>VK_153549451</td>\n",
              "      <td>2020-06-09</td>\n",
              "      <td>мазер</td>\n",
              "      <td>1</td>\n",
              "      <td>1</td>\n",
              "    </tr>\n",
              "    <tr>\n",
              "      <th>53798</th>\n",
              "      <td>VK_320517396</td>\n",
              "      <td>VK_320517396</td>\n",
              "      <td>2020-06-09</td>\n",
              "      <td>мазер</td>\n",
              "      <td>1</td>\n",
              "      <td>1</td>\n",
              "    </tr>\n",
              "    <tr>\n",
              "      <th>53799</th>\n",
              "      <td>VK_-182525523</td>\n",
              "      <td>VK_-182525523</td>\n",
              "      <td>2020-06-09</td>\n",
              "      <td>мазер</td>\n",
              "      <td>0</td>\n",
              "      <td>0</td>\n",
              "    </tr>\n",
              "  </tbody>\n",
              "</table>\n",
              "</div>"
            ],
            "text/plain": [
              "            AuthorID        OwnerID  ... AuthorType OwnerType\n",
              "53795  VK_-164193141  VK_-164193141  ...          0         0\n",
              "53796   VK_-49207913   VK_-49207913  ...          0         0\n",
              "53797   VK_153549451   VK_153549451  ...          1         1\n",
              "53798   VK_320517396   VK_320517396  ...          1         1\n",
              "53799  VK_-182525523  VK_-182525523  ...          0         0\n",
              "\n",
              "[5 rows x 6 columns]"
            ]
          },
          "metadata": {
            "tags": []
          },
          "execution_count": 12
        }
      ]
    },
    {
      "cell_type": "code",
      "metadata": {
        "id": "0Hh_7VmChUhY",
        "colab_type": "code",
        "colab": {}
      },
      "source": [
        "words = data['SearchQuery'].unique()"
      ],
      "execution_count": 0,
      "outputs": []
    },
    {
      "cell_type": "code",
      "metadata": {
        "id": "vMMieGr7lrbR",
        "colab_type": "code",
        "colab": {
          "base_uri": "https://localhost:8080/",
          "height": 35
        },
        "outputId": "80104590-c62a-44a5-aeb4-b4ecf67828b5"
      },
      "source": [
        "len(words)"
      ],
      "execution_count": 15,
      "outputs": [
        {
          "output_type": "execute_result",
          "data": {
            "text/plain": [
              "183"
            ]
          },
          "metadata": {
            "tags": []
          },
          "execution_count": 15
        }
      ]
    },
    {
      "cell_type": "code",
      "metadata": {
        "id": "tA115_yTlrd6",
        "colab_type": "code",
        "colab": {
          "base_uri": "https://localhost:8080/",
          "height": 572
        },
        "outputId": "0fc3d3a5-1fe6-436e-9b3c-93d9ec508f74"
      },
      "source": [
        "words"
      ],
      "execution_count": 16,
      "outputs": [
        {
          "output_type": "execute_result",
          "data": {
            "text/plain": [
              "array(['войс', 'разлоить', 'воркер', 'райдер', 'вейпер', 'воркшоп',\n",
              "       'райтер', 'вау', 'гайдлайн', 'райтинг', 'ватафак', 'гайз',\n",
              "       'райтор', 'вайб', 'гамать', 'угуглиться', 'бэкстейдж', 'гейм',\n",
              "       'удриненный', 'бэби', 'геймер', 'ультимейт', 'бро', 'геймплей',\n",
              "       'брифинг', 'гендер', 'уэйест', 'брейкинг', 'герл', 'фаербрифер',\n",
              "       'бранч', 'гёрлфренд', 'фазер', 'бой-френд', 'гифка', 'файербол',\n",
              "       'бойлер', 'глиттер', 'файна', 'боди', 'глобал', 'блэкаут', 'гоу',\n",
              "       'хаггер', 'бишур', 'гуглить', 'хардкор', 'билдинг', 'дабл-клик',\n",
              "       'хаер', 'бейби', 'дабл-тайм', 'хазбенд', 'бездэй', 'дамага',\n",
              "       'хайграунд', 'баттл', 'дамажить', 'дансер', 'баксы', 'дарлинг',\n",
              "       'байпас', 'бай', 'девелопер', 'ачивка', 'дедлайн', 'аутсорсинг',\n",
              "       'виндпруф', 'деливери', 'аутсайдер', 'джоггинг', 'аскер',\n",
              "       'дистрибьютор', 'асап', 'доджить', 'донатить', 'дрейнер',\n",
              "       'агриться', 'дринк', 'анриал', 'изи', 'апать', 'имиджмейкер',\n",
              "       'павнер', 'импакт', 'андер', 'вестерн', 'импичмент', 'импрувмент',\n",
              "       'кэжуал', 'андеграунд', 'имэйл', 'айти', 'инглиш', 'абьюз',\n",
              "       'виральный', 'инсайд', 'велкам', 'камеди', 'абгрейт', 'каминг-аут',\n",
              "       'капсить', 'лабутены', 'кликать', 'клипмейкер', 'комишен',\n",
              "       'комьюнити', 'мазефакер', 'коннектится', 'мазифака', 'конфа',\n",
              "       'копипаста', 'май гад', 'коуч', 'майкап', 'крамбл', 'майкософт',\n",
              "       'краудсорсинг', 'саб', 'краудфандинг', 'саббер', 'крафтинг',\n",
              "       'сабер', 'краш', 'сабмит', 'крейзи', 'сабмишн', 'кроссдрессинг',\n",
              "       'сабы', 'кул', 'сайкобилли', 'лав сим', 'сайленс', 'лав-стори',\n",
              "       'сакс', 'лаверы', 'самойлайк', 'самп', 'лагфейс', 'самперы',\n",
              "       'ладдер', 'сампецкий', 'лайк', 'самплик', 'лайк тайм', 'лайкать',\n",
              "       'тавр', 'лайкаться', 'таггинг', 'таггер', 'лайкнуть', 'тагер',\n",
              "       'лайкодрочер', 'тайл', 'лайкооткликаемо', 'тайлсет', 'лайкшери',\n",
              "       'лайн', 'тайминг', 'лайтовать', 'тайп', 'лайтовая', 'на фоксе',\n",
              "       'нааскать', 'набигхитить', 'лайф', 'нагуглить', 'лайфхак', 'найки',\n",
              "       'обгрейдить', 'лакер', 'обджекторы', 'маза-фака', 'овервотер',\n",
              "       'мазафака', 'оверкаст', 'пабг', 'мазафукер', 'паблик', 'маздай',\n",
              "       'паблос', 'павер', 'мазер'], dtype=object)"
            ]
          },
          "metadata": {
            "tags": []
          },
          "execution_count": 16
        }
      ]
    },
    {
      "cell_type": "code",
      "metadata": {
        "id": "MqUWZbWYD2BN",
        "colab_type": "code",
        "colab": {}
      },
      "source": [
        ""
      ],
      "execution_count": 0,
      "outputs": []
    }
  ]

 "cells": [
  {
   "cell_type": "code",
   "execution_count": 1,
   "metadata": {
    "colab": {
     "base_uri": "https://localhost:8080/",
     "height": 35
    },
    "colab_type": "code",
    "id": "aw1j1bFn92xQ",
    "outputId": "88794269-cef1-4656-84fa-9664ad549879"
   },
   "outputs": [],
   "source": [
    "# from google.colab import drive\n",
    "# drive.mount('/content/drive')"
   ]
  },
  {
   "cell_type": "code",
   "execution_count": 2,
   "metadata": {
    "colab": {},
    "colab_type": "code",
    "id": "nQ-P9pVshE5T"
   },
   "outputs": [],
   "source": [
    "import json\n",
    "import codecs\n",
    "import pandas as pd\n",
    "from tqdm import tqdm"
   ]
  },
  {
   "cell_type": "code",
   "execution_count": 3,
   "metadata": {
    "colab": {},
    "colab_type": "code",
    "id": "u2Asje29kIcN"
   },
   "outputs": [
    {
     "ename": "JSONDecodeError",
     "evalue": "Expecting value: line 2 column 11 (char 13)",
     "output_type": "error",
     "traceback": [
      "\u001b[0;31m---------------------------------------------------------------------------\u001b[0m",
      "\u001b[0;31mJSONDecodeError\u001b[0m                           Traceback (most recent call last)",
      "\u001b[0;32m<ipython-input-3-eafc2dde2591>\u001b[0m in \u001b[0;36m<module>\u001b[0;34m()\u001b[0m\n\u001b[0;32m----> 1\u001b[0;31m \u001b[0mposts\u001b[0m \u001b[0;34m=\u001b[0m \u001b[0mjson\u001b[0m\u001b[0;34m.\u001b[0m\u001b[0mload\u001b[0m\u001b[0;34m(\u001b[0m\u001b[0mcodecs\u001b[0m\u001b[0;34m.\u001b[0m\u001b[0mopen\u001b[0m\u001b[0;34m(\u001b[0m\u001b[0;34m'../Posts_02.json'\u001b[0m\u001b[0;34m,\u001b[0m \u001b[0;34m'r'\u001b[0m\u001b[0;34m,\u001b[0m \u001b[0;34m'utf-8-sig'\u001b[0m\u001b[0;34m)\u001b[0m\u001b[0;34m)\u001b[0m\u001b[0;34m\u001b[0m\u001b[0;34m\u001b[0m\u001b[0m\n\u001b[0m",
      "\u001b[0;32m/home/g/miniconda3/envs/sna/lib/python3.7/json/__init__.py\u001b[0m in \u001b[0;36mload\u001b[0;34m(fp, cls, object_hook, parse_float, parse_int, parse_constant, object_pairs_hook, **kw)\u001b[0m\n\u001b[1;32m    294\u001b[0m         \u001b[0mcls\u001b[0m\u001b[0;34m=\u001b[0m\u001b[0mcls\u001b[0m\u001b[0;34m,\u001b[0m \u001b[0mobject_hook\u001b[0m\u001b[0;34m=\u001b[0m\u001b[0mobject_hook\u001b[0m\u001b[0;34m,\u001b[0m\u001b[0;34m\u001b[0m\u001b[0;34m\u001b[0m\u001b[0m\n\u001b[1;32m    295\u001b[0m         \u001b[0mparse_float\u001b[0m\u001b[0;34m=\u001b[0m\u001b[0mparse_float\u001b[0m\u001b[0;34m,\u001b[0m \u001b[0mparse_int\u001b[0m\u001b[0;34m=\u001b[0m\u001b[0mparse_int\u001b[0m\u001b[0;34m,\u001b[0m\u001b[0;34m\u001b[0m\u001b[0;34m\u001b[0m\u001b[0m\n\u001b[0;32m--> 296\u001b[0;31m         parse_constant=parse_constant, object_pairs_hook=object_pairs_hook, **kw)\n\u001b[0m\u001b[1;32m    297\u001b[0m \u001b[0;34m\u001b[0m\u001b[0m\n\u001b[1;32m    298\u001b[0m \u001b[0;34m\u001b[0m\u001b[0m\n",
      "\u001b[0;32m/home/g/miniconda3/envs/sna/lib/python3.7/json/__init__.py\u001b[0m in \u001b[0;36mloads\u001b[0;34m(s, encoding, cls, object_hook, parse_float, parse_int, parse_constant, object_pairs_hook, **kw)\u001b[0m\n\u001b[1;32m    346\u001b[0m             \u001b[0mparse_int\u001b[0m \u001b[0;32mis\u001b[0m \u001b[0;32mNone\u001b[0m \u001b[0;32mand\u001b[0m \u001b[0mparse_float\u001b[0m \u001b[0;32mis\u001b[0m \u001b[0;32mNone\u001b[0m \u001b[0;32mand\u001b[0m\u001b[0;34m\u001b[0m\u001b[0;34m\u001b[0m\u001b[0m\n\u001b[1;32m    347\u001b[0m             parse_constant is None and object_pairs_hook is None and not kw):\n\u001b[0;32m--> 348\u001b[0;31m         \u001b[0;32mreturn\u001b[0m \u001b[0m_default_decoder\u001b[0m\u001b[0;34m.\u001b[0m\u001b[0mdecode\u001b[0m\u001b[0;34m(\u001b[0m\u001b[0ms\u001b[0m\u001b[0;34m)\u001b[0m\u001b[0;34m\u001b[0m\u001b[0;34m\u001b[0m\u001b[0m\n\u001b[0m\u001b[1;32m    349\u001b[0m     \u001b[0;32mif\u001b[0m \u001b[0mcls\u001b[0m \u001b[0;32mis\u001b[0m \u001b[0;32mNone\u001b[0m\u001b[0;34m:\u001b[0m\u001b[0;34m\u001b[0m\u001b[0;34m\u001b[0m\u001b[0m\n\u001b[1;32m    350\u001b[0m         \u001b[0mcls\u001b[0m \u001b[0;34m=\u001b[0m \u001b[0mJSONDecoder\u001b[0m\u001b[0;34m\u001b[0m\u001b[0;34m\u001b[0m\u001b[0m\n",
      "\u001b[0;32m/home/g/miniconda3/envs/sna/lib/python3.7/json/decoder.py\u001b[0m in \u001b[0;36mdecode\u001b[0;34m(self, s, _w)\u001b[0m\n\u001b[1;32m    335\u001b[0m \u001b[0;34m\u001b[0m\u001b[0m\n\u001b[1;32m    336\u001b[0m         \"\"\"\n\u001b[0;32m--> 337\u001b[0;31m         \u001b[0mobj\u001b[0m\u001b[0;34m,\u001b[0m \u001b[0mend\u001b[0m \u001b[0;34m=\u001b[0m \u001b[0mself\u001b[0m\u001b[0;34m.\u001b[0m\u001b[0mraw_decode\u001b[0m\u001b[0;34m(\u001b[0m\u001b[0ms\u001b[0m\u001b[0;34m,\u001b[0m \u001b[0midx\u001b[0m\u001b[0;34m=\u001b[0m\u001b[0m_w\u001b[0m\u001b[0;34m(\u001b[0m\u001b[0ms\u001b[0m\u001b[0;34m,\u001b[0m \u001b[0;36m0\u001b[0m\u001b[0;34m)\u001b[0m\u001b[0;34m.\u001b[0m\u001b[0mend\u001b[0m\u001b[0;34m(\u001b[0m\u001b[0;34m)\u001b[0m\u001b[0;34m)\u001b[0m\u001b[0;34m\u001b[0m\u001b[0;34m\u001b[0m\u001b[0m\n\u001b[0m\u001b[1;32m    338\u001b[0m         \u001b[0mend\u001b[0m \u001b[0;34m=\u001b[0m \u001b[0m_w\u001b[0m\u001b[0;34m(\u001b[0m\u001b[0ms\u001b[0m\u001b[0;34m,\u001b[0m \u001b[0mend\u001b[0m\u001b[0;34m)\u001b[0m\u001b[0;34m.\u001b[0m\u001b[0mend\u001b[0m\u001b[0;34m(\u001b[0m\u001b[0;34m)\u001b[0m\u001b[0;34m\u001b[0m\u001b[0;34m\u001b[0m\u001b[0m\n\u001b[1;32m    339\u001b[0m         \u001b[0;32mif\u001b[0m \u001b[0mend\u001b[0m \u001b[0;34m!=\u001b[0m \u001b[0mlen\u001b[0m\u001b[0;34m(\u001b[0m\u001b[0ms\u001b[0m\u001b[0;34m)\u001b[0m\u001b[0;34m:\u001b[0m\u001b[0;34m\u001b[0m\u001b[0;34m\u001b[0m\u001b[0m\n",
      "\u001b[0;32m/home/g/miniconda3/envs/sna/lib/python3.7/json/decoder.py\u001b[0m in \u001b[0;36mraw_decode\u001b[0;34m(self, s, idx)\u001b[0m\n\u001b[1;32m    353\u001b[0m             \u001b[0mobj\u001b[0m\u001b[0;34m,\u001b[0m \u001b[0mend\u001b[0m \u001b[0;34m=\u001b[0m \u001b[0mself\u001b[0m\u001b[0;34m.\u001b[0m\u001b[0mscan_once\u001b[0m\u001b[0;34m(\u001b[0m\u001b[0ms\u001b[0m\u001b[0;34m,\u001b[0m \u001b[0midx\u001b[0m\u001b[0;34m)\u001b[0m\u001b[0;34m\u001b[0m\u001b[0;34m\u001b[0m\u001b[0m\n\u001b[1;32m    354\u001b[0m         \u001b[0;32mexcept\u001b[0m \u001b[0mStopIteration\u001b[0m \u001b[0;32mas\u001b[0m \u001b[0merr\u001b[0m\u001b[0;34m:\u001b[0m\u001b[0;34m\u001b[0m\u001b[0;34m\u001b[0m\u001b[0m\n\u001b[0;32m--> 355\u001b[0;31m             \u001b[0;32mraise\u001b[0m \u001b[0mJSONDecodeError\u001b[0m\u001b[0;34m(\u001b[0m\u001b[0;34m\"Expecting value\"\u001b[0m\u001b[0;34m,\u001b[0m \u001b[0ms\u001b[0m\u001b[0;34m,\u001b[0m \u001b[0merr\u001b[0m\u001b[0;34m.\u001b[0m\u001b[0mvalue\u001b[0m\u001b[0;34m)\u001b[0m \u001b[0;32mfrom\u001b[0m \u001b[0;32mNone\u001b[0m\u001b[0;34m\u001b[0m\u001b[0;34m\u001b[0m\u001b[0m\n\u001b[0m\u001b[1;32m    356\u001b[0m         \u001b[0;32mreturn\u001b[0m \u001b[0mobj\u001b[0m\u001b[0;34m,\u001b[0m \u001b[0mend\u001b[0m\u001b[0;34m\u001b[0m\u001b[0;34m\u001b[0m\u001b[0m\n",
      "\u001b[0;31mJSONDecodeError\u001b[0m: Expecting value: line 2 column 11 (char 13)"
     ]
    }
   ],
   "source": [
    "posts = json.load(codecs.open('../Posts_02.json', 'r', 'utf-8-sig'))"
   ]
  },
  {
   "cell_type": "code",
   "execution_count": 6,
   "metadata": {
    "colab": {
     "base_uri": "https://localhost:8080/",
     "height": 35
    },
    "colab_type": "code",
    "id": "xwWxEgx8oDAw",
    "outputId": "366918cd-fa12-46e6-fb36-b335e3fb372c"
   },
   "outputs": [
    {
     "data": {
      "text/plain": [
       "53800"
      ]
     },
     "execution_count": 6,
     "metadata": {
      "tags": []
     },
     "output_type": "execute_result"
    }
   ],
   "source": [
    "len(posts)"
   ]
  },
  {
   "cell_type": "code",
   "execution_count": 0,
   "metadata": {
    "colab": {},
    "colab_type": "code",
    "id": "CY8HJDzXoGVH"
   },
   "outputs": [],
   "source": [
    "data = pd.DataFrame(columns=['AuthorID', \n",
    "                             'OwnerID',\n",
    "                             'CreatedDate',\n",
    "                             'SearchQuery',\n",
    "                             'AuthorType',\n",
    "                             'OwnerType',\n",
    "                             ])"
   ]
  },
  {
   "cell_type": "code",
   "execution_count": 9,
   "metadata": {
    "colab": {
     "base_uri": "https://localhost:8080/",
     "height": 35
    },
    "colab_type": "code",
    "id": "gAK0Hqjnoj4C",
    "outputId": "db311fe2-c39c-43c7-bcf7-0352ee7b0375"
   },
   "outputs": [
    {
     "name": "stderr",
     "output_type": "stream",
     "text": [
      "100%|██████████| 53800/53800 [15:10<00:00, 59.11it/s]\n"
     ]
    }
   ],
   "source": [
    "for post in tqdm(posts):\n",
    "    if '-' in post['AuthorID']:\n",
    "        author_type = 0 # group\n",
    "    else:\n",
    "        author_type = 1 # user\n",
    "\n",
    "    if '-' in post['OwnerID']:\n",
    "        owner_type = 0 # group\n",
    "    else:\n",
    "        owner_type = 1 # user\n",
    "\n",
    "    info = {'AuthorID': post['AuthorID'], \n",
    "            'OwnerID': post['OwnerID'],\n",
    "            'CreatedDate': post['CreatedDate'][:10], # 'yyyy-mm-dd'\n",
    "            'SearchQuery': post['Snippets'][0]['SearchQuery'],\n",
    "            'AuthorType': author_type,\n",
    "            'OwnerType': owner_type}\n",
    "\n",
    "    # print(info)\n",
    "    \n",
    "    data = data.append(info, ignore_index=True)    "
   ]
  },
  {
   "cell_type": "code",
   "execution_count": 0,
   "metadata": {
    "colab": {},
    "colab_type": "code",
    "id": "PcJkp944-qx0"
   },
   "outputs": [],
   "source": [
    "# save\n",
    "data.to_csv('/content/drive/My Drive/Angl/posts_info.csv')"
   ]
  },
  {
   "cell_type": "code",
   "execution_count": 10,
   "metadata": {
    "colab": {
     "base_uri": "https://localhost:8080/",
     "height": 202
    },
    "colab_type": "code",
    "id": "lvue11ZVrsVE",
    "outputId": "9a64b535-e3a3-47aa-db3b-48cf0716cd77"
   },
   "outputs": [
    {
     "data": {
      "text/html": [
       "<div>\n",
       "<style scoped>\n",
       "    .dataframe tbody tr th:only-of-type {\n",
       "        vertical-align: middle;\n",
       "    }\n",
       "\n",
       "    .dataframe tbody tr th {\n",
       "        vertical-align: top;\n",
       "    }\n",
       "\n",
       "    .dataframe thead th {\n",
       "        text-align: right;\n",
       "    }\n",
       "</style>\n",
       "<table border=\"1\" class=\"dataframe\">\n",
       "  <thead>\n",
       "    <tr style=\"text-align: right;\">\n",
       "      <th></th>\n",
       "      <th>AuthorID</th>\n",
       "      <th>OwnerID</th>\n",
       "      <th>CreatedDate</th>\n",
       "      <th>SearchQuery</th>\n",
       "      <th>AuthorType</th>\n",
       "      <th>OwnerType</th>\n",
       "    </tr>\n",
       "  </thead>\n",
       "  <tbody>\n",
       "    <tr>\n",
       "      <th>0</th>\n",
       "      <td>VK_-137472625</td>\n",
       "      <td>VK_-137472625</td>\n",
       "      <td>2020-06-16</td>\n",
       "      <td>войс</td>\n",
       "      <td>0</td>\n",
       "      <td>0</td>\n",
       "    </tr>\n",
       "    <tr>\n",
       "      <th>1</th>\n",
       "      <td>VK_-110896651</td>\n",
       "      <td>VK_-110896651</td>\n",
       "      <td>2020-06-16</td>\n",
       "      <td>войс</td>\n",
       "      <td>0</td>\n",
       "      <td>0</td>\n",
       "    </tr>\n",
       "    <tr>\n",
       "      <th>2</th>\n",
       "      <td>VK_-196351490</td>\n",
       "      <td>VK_-196351490</td>\n",
       "      <td>2020-06-15</td>\n",
       "      <td>войс</td>\n",
       "      <td>0</td>\n",
       "      <td>0</td>\n",
       "    </tr>\n",
       "    <tr>\n",
       "      <th>3</th>\n",
       "      <td>VK_-184898993</td>\n",
       "      <td>VK_-184898993</td>\n",
       "      <td>2020-06-15</td>\n",
       "      <td>войс</td>\n",
       "      <td>0</td>\n",
       "      <td>0</td>\n",
       "    </tr>\n",
       "    <tr>\n",
       "      <th>4</th>\n",
       "      <td>VK_-164251213</td>\n",
       "      <td>VK_-164251213</td>\n",
       "      <td>2020-06-15</td>\n",
       "      <td>войс</td>\n",
       "      <td>0</td>\n",
       "      <td>0</td>\n",
       "    </tr>\n",
       "  </tbody>\n",
       "</table>\n",
       "</div>"
      ],
      "text/plain": [
       "        AuthorID        OwnerID CreatedDate SearchQuery AuthorType OwnerType\n",
       "0  VK_-137472625  VK_-137472625  2020-06-16        войс          0         0\n",
       "1  VK_-110896651  VK_-110896651  2020-06-16        войс          0         0\n",
       "2  VK_-196351490  VK_-196351490  2020-06-15        войс          0         0\n",
       "3  VK_-184898993  VK_-184898993  2020-06-15        войс          0         0\n",
       "4  VK_-164251213  VK_-164251213  2020-06-15        войс          0         0"
      ]
     },
     "execution_count": 10,
     "metadata": {
      "tags": []
     },
     "output_type": "execute_result"
    }
   ],
   "source": [
    "data.head()"
   ]
  },
  {
   "cell_type": "code",
   "execution_count": 12,
   "metadata": {
    "colab": {
     "base_uri": "https://localhost:8080/",
     "height": 202
    },
    "colab_type": "code",
    "id": "qAxTme9ilKFR",
    "outputId": "0b8e2b63-c5e3-4c2a-b4e4-0925564a1826"
   },
   "outputs": [
    {
     "data": {
      "text/html": [
       "<div>\n",
       "<style scoped>\n",
       "    .dataframe tbody tr th:only-of-type {\n",
       "        vertical-align: middle;\n",
       "    }\n",
       "\n",
       "    .dataframe tbody tr th {\n",
       "        vertical-align: top;\n",
       "    }\n",
       "\n",
       "    .dataframe thead th {\n",
       "        text-align: right;\n",
       "    }\n",
       "</style>\n",
       "<table border=\"1\" class=\"dataframe\">\n",
       "  <thead>\n",
       "    <tr style=\"text-align: right;\">\n",
       "      <th></th>\n",
       "      <th>AuthorID</th>\n",
       "      <th>OwnerID</th>\n",
       "      <th>CreatedDate</th>\n",
       "      <th>SearchQuery</th>\n",
       "      <th>AuthorType</th>\n",
       "      <th>OwnerType</th>\n",
       "    </tr>\n",
       "  </thead>\n",
       "  <tbody>\n",
       "    <tr>\n",
       "      <th>53795</th>\n",
       "      <td>VK_-164193141</td>\n",
       "      <td>VK_-164193141</td>\n",
       "      <td>2020-06-09</td>\n",
       "      <td>мазер</td>\n",
       "      <td>0</td>\n",
       "      <td>0</td>\n",
       "    </tr>\n",
       "    <tr>\n",
       "      <th>53796</th>\n",
       "      <td>VK_-49207913</td>\n",
       "      <td>VK_-49207913</td>\n",
       "      <td>2020-06-09</td>\n",
       "      <td>мазер</td>\n",
       "      <td>0</td>\n",
       "      <td>0</td>\n",
       "    </tr>\n",
       "    <tr>\n",
       "      <th>53797</th>\n",
       "      <td>VK_153549451</td>\n",
       "      <td>VK_153549451</td>\n",
       "      <td>2020-06-09</td>\n",
       "      <td>мазер</td>\n",
       "      <td>1</td>\n",
       "      <td>1</td>\n",
       "    </tr>\n",
       "    <tr>\n",
       "      <th>53798</th>\n",
       "      <td>VK_320517396</td>\n",
       "      <td>VK_320517396</td>\n",
       "      <td>2020-06-09</td>\n",
       "      <td>мазер</td>\n",
       "      <td>1</td>\n",
       "      <td>1</td>\n",
       "    </tr>\n",
       "    <tr>\n",
       "      <th>53799</th>\n",
       "      <td>VK_-182525523</td>\n",
       "      <td>VK_-182525523</td>\n",
       "      <td>2020-06-09</td>\n",
       "      <td>мазер</td>\n",
       "      <td>0</td>\n",
       "      <td>0</td>\n",
       "    </tr>\n",
       "  </tbody>\n",
       "</table>\n",
       "</div>"
      ],
      "text/plain": [
       "            AuthorID        OwnerID  ... AuthorType OwnerType\n",
       "53795  VK_-164193141  VK_-164193141  ...          0         0\n",
       "53796   VK_-49207913   VK_-49207913  ...          0         0\n",
       "53797   VK_153549451   VK_153549451  ...          1         1\n",
       "53798   VK_320517396   VK_320517396  ...          1         1\n",
       "53799  VK_-182525523  VK_-182525523  ...          0         0\n",
       "\n",
       "[5 rows x 6 columns]"
      ]
     },
     "execution_count": 12,
     "metadata": {
      "tags": []
     },
     "output_type": "execute_result"
    }
   ],
   "source": [
    "data.tail()"
   ]
  },
  {
   "cell_type": "code",
   "execution_count": 0,
   "metadata": {
    "colab": {},
    "colab_type": "code",
    "id": "0Hh_7VmChUhY"
   },
   "outputs": [],
   "source": []
  },
  {
   "cell_type": "code",
   "execution_count": 0,
   "metadata": {
    "colab": {},
    "colab_type": "code",
    "id": "vMMieGr7lrbR"
   },
   "outputs": [],
   "source": []
  },
  {
   "cell_type": "code",
   "execution_count": 0,
   "metadata": {
    "colab": {},
    "colab_type": "code",
    "id": "tA115_yTlrd6"
   },
   "outputs": [],
   "source": []
  }
 ],
 "metadata": {
  "colab": {
   "collapsed_sections": [],
   "name": "json_parsing.ipynb",
   "provenance": []
  },
  "kernelspec": {
   "display_name": "Python 3",
   "language": "python",
   "name": "python3"
  },
  "language_info": {
   "codemirror_mode": {
    "name": "ipython",
    "version": 3
   },
   "file_extension": ".py",
   "mimetype": "text/x-python",
   "name": "python",
   "nbconvert_exporter": "python",
   "pygments_lexer": "ipython3",
   "version": "3.7.7"
  }
 },
 "nbformat": 4,
 "nbformat_minor": 1
}
