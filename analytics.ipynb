{
  "nbformat": 4,
  "nbformat_minor": 0,
  "metadata": {
    "colab": {
      "name": "analytics.ipynb",
      "provenance": [],
      "collapsed_sections": []
    },
    "kernelspec": {
      "name": "python3",
      "display_name": "Python 3"
    }
  },
  "cells": [
    {
      "cell_type": "markdown",
      "metadata": {
        "id": "9Dpv4SlgojYH",
        "colab_type": "text"
      },
      "source": [
        "## Analysis of posts\n",
        "\n",
        "Posts can be taken from https://drive.google.com/drive/folders/1F-pm_J-eKZAd7-PxnzZdCpKfAMlFs6Ke?usp=sharing\n",
        "\n",
        "You may add a shortcut to your drive and run this code on colab OR download posts_info.csv and run locally."
      ]
    },
    {
      "cell_type": "code",
      "metadata": {
        "id": "D2O4jYhVqnBv",
        "colab_type": "code",
        "colab": {
          "base_uri": "https://localhost:8080/",
          "height": 122
        },
        "outputId": "7c6e86c1-6662-486d-dd12-7ec02cb84030"
      },
      "source": [
        "from google.colab import drive\n",
        "drive.mount('/content/drive')"
      ],
      "execution_count": 1,
      "outputs": [
        {
          "output_type": "stream",
          "text": [
            "Go to this URL in a browser: https://accounts.google.com/o/oauth2/auth?client_id=947318989803-6bn6qk8qdgf4n4g3pfee6491hc0brc4i.apps.googleusercontent.com&redirect_uri=urn%3aietf%3awg%3aoauth%3a2.0%3aoob&response_type=code&scope=email%20https%3a%2f%2fwww.googleapis.com%2fauth%2fdocs.test%20https%3a%2f%2fwww.googleapis.com%2fauth%2fdrive%20https%3a%2f%2fwww.googleapis.com%2fauth%2fdrive.photos.readonly%20https%3a%2f%2fwww.googleapis.com%2fauth%2fpeopleapi.readonly\n",
            "\n",
            "Enter your authorization code:\n",
            "··········\n",
            "Mounted at /content/drive\n"
          ],
          "name": "stdout"
        }
      ]
    },
    {
      "cell_type": "code",
      "metadata": {
        "id": "N8tYwb-XygL7",
        "colab_type": "code",
        "colab": {}
      },
      "source": [
        "import pandas as pd\n",
        "import matplotlib.pyplot as plt"
      ],
      "execution_count": 0,
      "outputs": []
    },
    {
      "cell_type": "code",
      "metadata": {
        "id": "cqPNcuMjzDOS",
        "colab_type": "code",
        "colab": {
          "base_uri": "https://localhost:8080/",
          "height": 204
        },
        "outputId": "55158935-eb1b-4e10-9a42-56fb0234cda7"
      },
      "source": [
        "posts_info = pd.read_csv(\"/content/drive/My Drive/Angl/posts_info.csv\")\n",
        "\n",
        "# add year column\n",
        "posts_info['Year'] = posts_info['CreatedDate'].apply(lambda x: x[:4])\n",
        "\n",
        "posts_info.head()"
      ],
      "execution_count": 13,
      "outputs": [
        {
          "output_type": "execute_result",
          "data": {
            "text/html": [
              "<div>\n",
              "<style scoped>\n",
              "    .dataframe tbody tr th:only-of-type {\n",
              "        vertical-align: middle;\n",
              "    }\n",
              "\n",
              "    .dataframe tbody tr th {\n",
              "        vertical-align: top;\n",
              "    }\n",
              "\n",
              "    .dataframe thead th {\n",
              "        text-align: right;\n",
              "    }\n",
              "</style>\n",
              "<table border=\"1\" class=\"dataframe\">\n",
              "  <thead>\n",
              "    <tr style=\"text-align: right;\">\n",
              "      <th></th>\n",
              "      <th>Unnamed: 0</th>\n",
              "      <th>AuthorID</th>\n",
              "      <th>OwnerID</th>\n",
              "      <th>CreatedDate</th>\n",
              "      <th>SearchQuery</th>\n",
              "      <th>AuthorType</th>\n",
              "      <th>OwnerType</th>\n",
              "      <th>Year</th>\n",
              "    </tr>\n",
              "  </thead>\n",
              "  <tbody>\n",
              "    <tr>\n",
              "      <th>0</th>\n",
              "      <td>0</td>\n",
              "      <td>VK_-137472625</td>\n",
              "      <td>VK_-137472625</td>\n",
              "      <td>2020-06-16</td>\n",
              "      <td>войс</td>\n",
              "      <td>0</td>\n",
              "      <td>0</td>\n",
              "      <td>2020</td>\n",
              "    </tr>\n",
              "    <tr>\n",
              "      <th>1</th>\n",
              "      <td>1</td>\n",
              "      <td>VK_-110896651</td>\n",
              "      <td>VK_-110896651</td>\n",
              "      <td>2020-06-16</td>\n",
              "      <td>войс</td>\n",
              "      <td>0</td>\n",
              "      <td>0</td>\n",
              "      <td>2020</td>\n",
              "    </tr>\n",
              "    <tr>\n",
              "      <th>2</th>\n",
              "      <td>2</td>\n",
              "      <td>VK_-196351490</td>\n",
              "      <td>VK_-196351490</td>\n",
              "      <td>2020-06-15</td>\n",
              "      <td>войс</td>\n",
              "      <td>0</td>\n",
              "      <td>0</td>\n",
              "      <td>2020</td>\n",
              "    </tr>\n",
              "    <tr>\n",
              "      <th>3</th>\n",
              "      <td>3</td>\n",
              "      <td>VK_-184898993</td>\n",
              "      <td>VK_-184898993</td>\n",
              "      <td>2020-06-15</td>\n",
              "      <td>войс</td>\n",
              "      <td>0</td>\n",
              "      <td>0</td>\n",
              "      <td>2020</td>\n",
              "    </tr>\n",
              "    <tr>\n",
              "      <th>4</th>\n",
              "      <td>4</td>\n",
              "      <td>VK_-164251213</td>\n",
              "      <td>VK_-164251213</td>\n",
              "      <td>2020-06-15</td>\n",
              "      <td>войс</td>\n",
              "      <td>0</td>\n",
              "      <td>0</td>\n",
              "      <td>2020</td>\n",
              "    </tr>\n",
              "  </tbody>\n",
              "</table>\n",
              "</div>"
            ],
            "text/plain": [
              "   Unnamed: 0       AuthorID        OwnerID  ... AuthorType OwnerType  Year\n",
              "0           0  VK_-137472625  VK_-137472625  ...          0         0  2020\n",
              "1           1  VK_-110896651  VK_-110896651  ...          0         0  2020\n",
              "2           2  VK_-196351490  VK_-196351490  ...          0         0  2020\n",
              "3           3  VK_-184898993  VK_-184898993  ...          0         0  2020\n",
              "4           4  VK_-164251213  VK_-164251213  ...          0         0  2020\n",
              "\n",
              "[5 rows x 8 columns]"
            ]
          },
          "metadata": {
            "tags": []
          },
          "execution_count": 13
        }
      ]
    },
    {
      "cell_type": "markdown",
      "metadata": {
        "id": "jHyYNLaMpRci",
        "colab_type": "text"
      },
      "source": [
        "### 1. Overall statistics"
      ]
    },
    {
      "cell_type": "code",
      "metadata": {
        "id": "9AE-ccI6k34n",
        "colab_type": "code",
        "colab": {
          "base_uri": "https://localhost:8080/",
          "height": 34
        },
        "outputId": "81599e05-30f0-42ac-cee0-78a1a00b8cf7"
      },
      "source": [
        "print('Number of posts:', len(posts_info))"
      ],
      "execution_count": 35,
      "outputs": [
        {
          "output_type": "stream",
          "text": [
            "Number of posts: 53800\n"
          ],
          "name": "stdout"
        }
      ]
    },
    {
      "cell_type": "code",
      "metadata": {
        "id": "Zus-g8krzOjC",
        "colab_type": "code",
        "colab": {
          "base_uri": "https://localhost:8080/",
          "height": 34
        },
        "outputId": "c1945458-f441-44a5-8808-8c88f34dc1db"
      },
      "source": [
        "word_counts = dict(posts_info['SearchQuery'].value_counts())\n",
        "print('Number of words:', len(word_counts))"
      ],
      "execution_count": 4,
      "outputs": [
        {
          "output_type": "stream",
          "text": [
            "Number of words: 183\n"
          ],
          "name": "stdout"
        }
      ]
    },
    {
      "cell_type": "code",
      "metadata": {
        "id": "KzHcdGcikRb8",
        "colab_type": "code",
        "colab": {
          "base_uri": "https://localhost:8080/",
          "height": 51
        },
        "outputId": "37027722-8dfd-4d44-cddc-d22ad32c1b1e"
      },
      "source": [
        "groups_as_authors_unique = posts_info[posts_info['AuthorType'] == 0]['AuthorID'].unique().tolist()\n",
        "groups_as_authors = posts_info[posts_info['AuthorType'] == 0]['AuthorID'].tolist()\n",
        "\n",
        "print('Number of unique groups as authors:', len(groups_as_authors_unique))\n",
        "print('Number of (overall) posts of groups as authors:', len(groups_as_authors))"
      ],
      "execution_count": 41,
      "outputs": [
        {
          "output_type": "stream",
          "text": [
            "Number of unique groups as authors: 25946\n",
            "Number of (overall) posts of groups as authors: 38588\n"
          ],
          "name": "stdout"
        }
      ]
    },
    {
      "cell_type": "code",
      "metadata": {
        "id": "uD0gi6gxkRg-",
        "colab_type": "code",
        "colab": {
          "base_uri": "https://localhost:8080/",
          "height": 51
        },
        "outputId": "6411b277-a7f6-48b5-9bcf-9177e806ddfd"
      },
      "source": [
        "groups_as_owners_unique = posts_info[posts_info['OwnerType'] == 0]['OwnerID'].unique().tolist()\n",
        "groups_as_owners = posts_info[posts_info['OwnerType'] == 0]['OwnerID'].tolist()\n",
        "\n",
        "print('Number of unique groups as owners:', len(groups_as_owners_unique))\n",
        "print('Number of (overall) posts in groups:', len(groups_as_owners))"
      ],
      "execution_count": 43,
      "outputs": [
        {
          "output_type": "stream",
          "text": [
            "Number of unique groups as owners: 25950\n",
            "Number of (overall) posts in groups: 38592\n"
          ],
          "name": "stdout"
        }
      ]
    },
    {
      "cell_type": "code",
      "metadata": {
        "id": "Gu3cKTfykzuq",
        "colab_type": "code",
        "colab": {
          "base_uri": "https://localhost:8080/",
          "height": 51
        },
        "outputId": "9e40df4c-290e-4185-e71a-2827a2380696"
      },
      "source": [
        "users_as_authors_unique = posts_info[posts_info['AuthorType'] == 1]['AuthorID'].unique().tolist()\n",
        "users_as_authors = posts_info[posts_info['AuthorType'] == 1]['AuthorID'].tolist()\n",
        "\n",
        "print('Number unique of users as authors:', len(users_as_authors_unique))\n",
        "print('Number (overall) of users as authors:', len(users_as_authors))"
      ],
      "execution_count": 45,
      "outputs": [
        {
          "output_type": "stream",
          "text": [
            "Number unique of users as authors: 11596\n",
            "Number (overall) of users as authors: 15212\n"
          ],
          "name": "stdout"
        }
      ]
    },
    {
      "cell_type": "markdown",
      "metadata": {
        "id": "_2V6X7k-pXAh",
        "colab_type": "text"
      },
      "source": [
        "### 2. Words statistics"
      ]
    },
    {
      "cell_type": "code",
      "metadata": {
        "id": "YXmhQbMQ52GO",
        "colab_type": "code",
        "colab": {
          "base_uri": "https://localhost:8080/",
          "height": 488
        },
        "outputId": "68ec4de3-914a-4f60-aaa5-fcfea019180b"
      },
      "source": [
        "plt.figure(figsize=(18, 8))\n",
        "plt.bar(list(word_counts.keys()), list(word_counts.values()), color='steelblue')\n",
        "plt.xticks(ticks=[], labels=[])\n",
        "plt.title('Word counts')\n",
        "plt.show()"
      ],
      "execution_count": 27,
      "outputs": [
        {
          "output_type": "display_data",
          "data": {
            "image/png": "[encoded data removed]",
            "text/plain": [
              "<Figure size 1296x576 with 1 Axes>"
            ]
          },
          "metadata": {
            "tags": [],
            "needs_background": "light"
          }
        }
      ]
    },
    {
      "cell_type": "code",
      "metadata": {
        "id": "JOeGV8SXDZrR",
        "colab_type": "code",
        "colab": {
          "base_uri": "https://localhost:8080/",
          "height": 34
        },
        "outputId": "1d70f317-df08-46ef-b345-4f806c4f4b6f"
      },
      "source": [
        "year_counts = dict(posts_info['Year'].value_counts())\n",
        "\n",
        "sorted_year_counts = [(k, v) for k, v in sorted(year_counts.items(), key=lambda item: item[0])]\n",
        "\n",
        "years = [year for year, _ in sorted_year_counts]\n",
        "year_counts = [count for _, count in sorted_year_counts]\n",
        "print('Years:', years)"
      ],
      "execution_count": 19,
      "outputs": [
        {
          "output_type": "stream",
          "text": [
            "Years: ['1970', '2010', '2011', '2012', '2013', '2014', '2015', '2016', '2017', '2018', '2019', '2020']\n"
          ],
          "name": "stdout"
        }
      ]
    },
    {
      "cell_type": "code",
      "metadata": {
        "id": "wDmmMHTFD0_T",
        "colab_type": "code",
        "colab": {
          "base_uri": "https://localhost:8080/",
          "height": 499
        },
        "outputId": "1f9f420d-28eb-4e1c-ef10-bf6b2e3d81f2"
      },
      "source": [
        "plt.figure(figsize=(18, 8))\n",
        "plt.bar(years, year_counts, color='steelblue')\n",
        "plt.title('Year frequency')\n",
        "plt.show()"
      ],
      "execution_count": 28,
      "outputs": [
        {
          "output_type": "display_data",
          "data": {
            "image/png": "[encoded data removed]",
            "text/plain": [
              "<Figure size 1296x576 with 1 Axes>"
            ]
          },
          "metadata": {
            "tags": [],
            "needs_background": "light"
          }
        }
      ]
    },
    {
      "cell_type": "code",
      "metadata": {
        "id": "Fcpuak_y_5Ml",
        "colab_type": "code",
        "colab": {}
      },
      "source": [
        "def get_month_counts(posts_info, year='2020'):\n",
        "    month_counts = dict(posts_info[posts_info['Year'] == year]['CreatedDate'].apply(lambda x: x[5:7]).value_counts())\n",
        "\n",
        "    sorted_month_counts = [(k, v) for k, v in sorted(month_counts.items(), key=lambda item: item[0])]\n",
        "\n",
        "    months = [month for month, _ in sorted_month_counts]\n",
        "    month_counts = [count for _, count in sorted_month_counts]\n",
        "    \n",
        "    return months, month_counts"
      ],
      "execution_count": 0,
      "outputs": []
    },
    {
      "cell_type": "code",
      "metadata": {
        "id": "tybvNCu0iEeY",
        "colab_type": "code",
        "colab": {
          "base_uri": "https://localhost:8080/",
          "height": 34
        },
        "outputId": "a9516993-0e48-4abe-fc1c-6c8e73152aa2"
      },
      "source": [
        "months, month_counts = get_month_counts(posts_info)\n",
        "print('Months of 2020:', months)"
      ],
      "execution_count": 23,
      "outputs": [
        {
          "output_type": "stream",
          "text": [
            "Months of 2020: ['01', '02', '03', '04', '05', '06']\n"
          ],
          "name": "stdout"
        }
      ]
    },
    {
      "cell_type": "code",
      "metadata": {
        "id": "r6LR9MuIAfhm",
        "colab_type": "code",
        "colab": {
          "base_uri": "https://localhost:8080/",
          "height": 499
        },
        "outputId": "98505486-362f-484b-8455-08289ce9ec2d"
      },
      "source": [
        "plt.figure(figsize=(18, 8))\n",
        "plt.bar(months, month_counts, color='steelblue')\n",
        "plt.title('2020 month counts')\n",
        "plt.show()"
      ],
      "execution_count": 29,
      "outputs": [
        {
          "output_type": "display_data",
          "data": {
            "image/png": "[encoded data removed]",
            "text/plain": [
              "<Figure size 1296x576 with 1 Axes>"
            ]
          },
          "metadata": {
            "tags": [],
            "needs_background": "light"
          }
        }
      ]
    },
    {
      "cell_type": "markdown",
      "metadata": {
        "id": "fVoS50QUpfdI",
        "colab_type": "text"
      },
      "source": [
        "### 3. Top words"
      ]
    },
    {
      "cell_type": "code",
      "metadata": {
        "id": "nqxbAwwlH_Q4",
        "colab_type": "code",
        "colab": {}
      },
      "source": [
        "sorted_word_counts = [(k, v) for k, v in sorted(word_counts.items(), key=lambda item: item[1])]"
      ],
      "execution_count": 0,
      "outputs": []
    },
    {
      "cell_type": "code",
      "metadata": {
        "id": "Tf0qSi0WIZrh",
        "colab_type": "code",
        "colab": {
          "base_uri": "https://localhost:8080/",
          "height": 187
        },
        "outputId": "0c0ce3ea-9eff-442d-a332-ba47547c06c0"
      },
      "source": [
        "sorted_word_counts[-10:] "
      ],
      "execution_count": 31,
      "outputs": [
        {
          "output_type": "execute_result",
          "data": {
            "text/plain": [
              "[('фазер', 953),\n",
              " ('гуглить', 955),\n",
              " ('файербол', 956),\n",
              " ('брифинг', 960),\n",
              " ('вейпер', 961),\n",
              " ('импакт', 967),\n",
              " ('имиджмейкер', 971),\n",
              " ('бойлер', 977),\n",
              " ('вау', 986),\n",
              " ('гайз', 998)]"
            ]
          },
          "metadata": {
            "tags": []
          },
          "execution_count": 31
        }
      ]
    },
    {
      "cell_type": "code",
      "metadata": {
        "id": "74Ib9pkXJRVs",
        "colab_type": "code",
        "colab": {
          "base_uri": "https://localhost:8080/",
          "height": 187
        },
        "outputId": "3b05846a-2a34-44f7-cc98-2518f899fbd5"
      },
      "source": [
        "sorted_word_counts[:10] "
      ],
      "execution_count": 32,
      "outputs": [
        {
          "output_type": "execute_result",
          "data": {
            "text/plain": [
              "[('удриненный', 1),\n",
              " ('тайп', 1),\n",
              " ('мазифака', 1),\n",
              " ('крафтинг', 1),\n",
              " ('уэйест', 1),\n",
              " ('лакер', 1),\n",
              " ('сампецкий', 1),\n",
              " ('таггер', 1),\n",
              " ('велкам', 2),\n",
              " ('краудфандинг', 2)]"
            ]
          },
          "metadata": {
            "tags": []
          },
          "execution_count": 32
        }
      ]
    },
    {
      "cell_type": "code",
      "metadata": {
        "id": "MzQSL_R-Nong",
        "colab_type": "code",
        "colab": {}
      },
      "source": [
        "# popular words by years\n",
        "\n",
        "def find_top_over_years(posts_info, years, top=10):\n",
        "    top_words = {}\n",
        "    for year in years: \n",
        "        word_counts = dict(posts_info[posts_info['Year'] == year]['SearchQuery'].value_counts())\n",
        "        sorted_word_counts = [(k, v) for k, v in sorted(word_counts.items(), key=lambda item: item[1])]\n",
        "        if len(sorted_word_counts) < top:\n",
        "            top_words[year] = sorted_word_counts\n",
        "        else:  \n",
        "            top_words[year] = sorted_word_counts[-10:]\n",
        "\n",
        "    return top_words"
      ],
      "execution_count": 0,
      "outputs": []
    },
    {
      "cell_type": "code",
      "metadata": {
        "id": "CpTJDLhqPJmT",
        "colab_type": "code",
        "colab": {
          "base_uri": "https://localhost:8080/",
          "height": 867
        },
        "outputId": "33bd1444-c352-447b-ad5f-341f50f9acba"
      },
      "source": [
        "years = ['2020', '2019', '2018', '2017', '2016']\n",
        "top_words = find_top_over_years(posts_info, years)\n",
        "top_words"
      ],
      "execution_count": 88,
      "outputs": [
        {
          "output_type": "execute_result",
          "data": {
            "text/plain": [
              "{'2016': [('павнер', 1),\n",
              "  ('инглиш', 1),\n",
              "  ('разлоить', 2),\n",
              "  ('самойлайк', 3),\n",
              "  ('бишур', 10),\n",
              "  ('фаербрифер', 20),\n",
              "  ('виндпруф', 21),\n",
              "  ('импрувмент', 39),\n",
              "  ('райтор', 50),\n",
              "  ('хазбенд', 71)],\n",
              " '2017': [('фаербрифер', 3),\n",
              "  ('разлоить', 6),\n",
              "  ('павнер', 10),\n",
              "  ('виндпруф', 10),\n",
              "  ('бишур', 15),\n",
              "  ('импрувмент', 38),\n",
              "  ('райтор', 61),\n",
              "  ('угуглиться', 65),\n",
              "  ('хазбенд', 101),\n",
              "  ('дабл-клик', 222)],\n",
              " '2018': [('разлоить', 4),\n",
              "  ('павнер', 7),\n",
              "  ('фаербрифер', 12),\n",
              "  ('угуглиться', 16),\n",
              "  ('бишур', 16),\n",
              "  ('виндпруф', 20),\n",
              "  ('райтор', 24),\n",
              "  ('импрувмент', 46),\n",
              "  ('хазбенд', 118),\n",
              "  ('дабл-клик', 174)],\n",
              " '2019': [('райтор', 67),\n",
              "  ('дамажить', 81),\n",
              "  ('воркер', 98),\n",
              "  ('хайграунд', 114),\n",
              "  ('хаггер', 121),\n",
              "  ('хазбенд', 128),\n",
              "  ('дабл-тайм', 225),\n",
              "  ('дабл-клик', 273),\n",
              "  ('файербол', 359),\n",
              "  ('имэйл', 507)],\n",
              " '2020': [('файна', 951),\n",
              "  ('фазер', 951),\n",
              "  ('гуглить', 955),\n",
              "  ('вейпер', 958),\n",
              "  ('брифинг', 960),\n",
              "  ('импакт', 967),\n",
              "  ('имиджмейкер', 970),\n",
              "  ('бойлер', 977),\n",
              "  ('вау', 984),\n",
              "  ('гайз', 996)]}"
            ]
          },
          "metadata": {
            "tags": []
          },
          "execution_count": 88
        }
      ]
    },
    {
      "cell_type": "markdown",
      "metadata": {
        "id": "sv_TTjXbplZX",
        "colab_type": "text"
      },
      "source": [
        "### 4. Top authors"
      ]
    },
    {
      "cell_type": "code",
      "metadata": {
        "id": "mM2yClo6Pyts",
        "colab_type": "code",
        "colab": {
          "base_uri": "https://localhost:8080/",
          "height": 34
        },
        "outputId": "9db80d74-92e0-49ad-83c5-94a7fa5fd51b"
      },
      "source": [
        "# top users / groups in terms of word counts\n",
        "\n",
        "author_counts = dict(posts_info.groupby('AuthorID')['SearchQuery'].nunique())\n",
        "print('Number of unique authors:', len(author_counts))"
      ],
      "execution_count": 50,
      "outputs": [
        {
          "output_type": "stream",
          "text": [
            "Number of unique authors: 37542\n"
          ],
          "name": "stdout"
        }
      ]
    },
    {
      "cell_type": "code",
      "metadata": {
        "id": "pO7UA87Um4--",
        "colab_type": "code",
        "colab": {}
      },
      "source": [
        "sorted_author_counts = [(k, v) for k, v in sorted(author_counts.items(), key=lambda item: item[1])]"
      ],
      "execution_count": 0,
      "outputs": []
    },
    {
      "cell_type": "code",
      "metadata": {
        "id": "J7-6wfZWm5CA",
        "colab_type": "code",
        "colab": {
          "base_uri": "https://localhost:8080/",
          "height": 187
        },
        "outputId": "b768fd31-309e-403e-e65c-1622e1b338c5"
      },
      "source": [
        "sorted_author_counts[-10:]"
      ],
      "execution_count": 52,
      "outputs": [
        {
          "output_type": "execute_result",
          "data": {
            "text/plain": [
              "[('VK_354628809', 7),\n",
              " ('VK_-167200896', 8),\n",
              " ('VK_540120591', 8),\n",
              " ('VK_-152827810', 9),\n",
              " ('VK_-52079251', 9),\n",
              " ('VK_-72739547', 9),\n",
              " ('VK_-169563150', 10),\n",
              " ('VK_-189351141', 10),\n",
              " ('VK_385747517', 10),\n",
              " ('VK_396741619', 10)]"
            ]
          },
          "metadata": {
            "tags": []
          },
          "execution_count": 52
        }
      ]
    },
    {
      "cell_type": "code",
      "metadata": {
        "id": "yaACF86mob3k",
        "colab_type": "code",
        "colab": {
          "base_uri": "https://localhost:8080/",
          "height": 187
        },
        "outputId": "5fedfdb7-ecfc-4c0c-c093-07b4b0bd5257"
      },
      "source": [
        "sorted_author_counts[:10]"
      ],
      "execution_count": 53,
      "outputs": [
        {
          "output_type": "execute_result",
          "data": {
            "text/plain": [
              "[('VK_-100013213', 1),\n",
              " ('VK_-100020178', 1),\n",
              " ('VK_-100047260', 1),\n",
              " ('VK_-100071706', 1),\n",
              " ('VK_-100074881', 1),\n",
              " ('VK_-100079706', 1),\n",
              " ('VK_-100085206', 1),\n",
              " ('VK_-100089284', 1),\n",
              " ('VK_-100107404', 1),\n",
              " ('VK_-100129616', 1)]"
            ]
          },
          "metadata": {
            "tags": []
          },
          "execution_count": 53
        }
      ]
    },
    {
      "cell_type": "code",
      "metadata": {
        "id": "KpvmiZx0prXC",
        "colab_type": "code",
        "colab": {}
      },
      "source": [
        ""
      ],
      "execution_count": 0,
      "outputs": []
    },
    {
      "cell_type": "code",
      "metadata": {
        "id": "jBej9tbjprZi",
        "colab_type": "code",
        "colab": {}
      },
      "source": [
        ""
      ],
      "execution_count": 0,
      "outputs": []
    }
  ]
}