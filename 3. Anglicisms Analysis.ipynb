{
 "cells": [
  {
   "cell_type": "code",
   "execution_count": 1,
   "metadata": {},
   "outputs": [],
   "source": [
    "#The study of the correlation of Anglicisms with each other, the construction of a communication network of Anglicisms based on the text in which they meet and the groups that use them"
   ]
  },
  {
   "cell_type": "code",
   "execution_count": 2,
   "metadata": {},
   "outputs": [],
   "source": [
    "import os\n",
    "import sys\n",
    "import numpy as np\n",
    "import scipy.spatial as spt\n",
    "import pandas as pd\n",
    "import matplotlib.pyplot as plt\n",
    "import networkx as nx\n",
    "import community as community_louvain\n",
    "from networkx.algorithms.community import (\n",
    "    greedy_modularity_communities,\n",
    "    label_propagation_communities,\n",
    "    asyn_lpa_communities,\n",
    "    girvan_newman,\n",
    ")\n",
    "from sklearn.metrics import (\n",
    "    normalized_mutual_info_score,\n",
    "    mutual_info_score,\n",
    "    adjusted_mutual_info_score,\n",
    ")\n",
    "from IPython.display import display, HTML, display_pretty\n",
    "%matplotlib inline"
   ]
  },
  {
   "cell_type": "code",
   "execution_count": 3,
   "metadata": {},
   "outputs": [],
   "source": [
    "# solve RecursionError: maximum recursion depth exceeded\n",
    "# while calling a Python object\n",
    "sys.setrecursionlimit(512)"
   ]
  },
  {
   "cell_type": "code",
   "execution_count": 16,
   "metadata": {},
   "outputs": [
    {
     "name": "stdout",
     "output_type": "stream",
     "text": [
      "[[ True  True  True ... False False False]\n",
      " [ True  True  True ... False False False]\n",
      " [ True  True  True ... False False False]\n",
      " ...\n",
      " [False False False ...  True False False]\n",
      " [False False False ... False  True False]\n",
      " [False False False ... False False  True]]\n"
     ]
    },
    {
     "ename": "KeyboardInterrupt",
     "evalue": "",
     "output_type": "error",
     "traceback": [
      "\u001b[0;31m---------------------------------------------------------------------------\u001b[0m",
      "\u001b[0;31mKeyboardInterrupt\u001b[0m                         Traceback (most recent call last)",
      "\u001b[0;32m<ipython-input-16-0d169ed006e7>\u001b[0m in \u001b[0;36m<module>\u001b[0;34m()\u001b[0m\n\u001b[1;32m     12\u001b[0m \u001b[0mprint\u001b[0m\u001b[0;34m(\u001b[0m\u001b[0mA\u001b[0m\u001b[0;34m)\u001b[0m\u001b[0;34m\u001b[0m\u001b[0;34m\u001b[0m\u001b[0m\n\u001b[1;32m     13\u001b[0m \u001b[0;32mdel\u001b[0m \u001b[0mS\u001b[0m\u001b[0;34m\u001b[0m\u001b[0;34m\u001b[0m\u001b[0m\n\u001b[0;32m---> 14\u001b[0;31m \u001b[0mG\u001b[0m \u001b[0;34m=\u001b[0m \u001b[0mnx\u001b[0m\u001b[0;34m.\u001b[0m\u001b[0mfrom_numpy_matrix\u001b[0m\u001b[0;34m(\u001b[0m\u001b[0mA\u001b[0m\u001b[0;34m,\u001b[0m\u001b[0mcreate_using\u001b[0m\u001b[0;34m=\u001b[0m\u001b[0;32mNone\u001b[0m\u001b[0;34m)\u001b[0m\u001b[0;34m\u001b[0m\u001b[0;34m\u001b[0m\u001b[0m\n\u001b[0m\u001b[1;32m     15\u001b[0m \u001b[0;32mdel\u001b[0m \u001b[0mA\u001b[0m\u001b[0;34m\u001b[0m\u001b[0;34m\u001b[0m\u001b[0m\n\u001b[1;32m     16\u001b[0m \u001b[0mG_layout\u001b[0m \u001b[0;34m=\u001b[0m \u001b[0mnx\u001b[0m\u001b[0;34m.\u001b[0m\u001b[0mspring_layout\u001b[0m\u001b[0;34m(\u001b[0m\u001b[0mG\u001b[0m\u001b[0;34m,\u001b[0m \u001b[0mk\u001b[0m \u001b[0;34m=\u001b[0m \u001b[0;36m0.25\u001b[0m\u001b[0;34m)\u001b[0m\u001b[0;34m\u001b[0m\u001b[0;34m\u001b[0m\u001b[0m\n",
      "\u001b[0;32m/home/x11dpg-qt/Software/miniconda3/envs/sna/lib/python3.7/site-packages/networkx/convert_matrix.py\u001b[0m in \u001b[0;36mfrom_numpy_matrix\u001b[0;34m(A, parallel_edges, create_using)\u001b[0m\n\u001b[1;32m    608\u001b[0m     \u001b[0;32mif\u001b[0m \u001b[0mG\u001b[0m\u001b[0;34m.\u001b[0m\u001b[0mis_multigraph\u001b[0m\u001b[0;34m(\u001b[0m\u001b[0;34m)\u001b[0m \u001b[0;32mand\u001b[0m \u001b[0;32mnot\u001b[0m \u001b[0mG\u001b[0m\u001b[0;34m.\u001b[0m\u001b[0mis_directed\u001b[0m\u001b[0;34m(\u001b[0m\u001b[0;34m)\u001b[0m\u001b[0;34m:\u001b[0m\u001b[0;34m\u001b[0m\u001b[0;34m\u001b[0m\u001b[0m\n\u001b[1;32m    609\u001b[0m         \u001b[0mtriples\u001b[0m \u001b[0;34m=\u001b[0m \u001b[0;34m(\u001b[0m\u001b[0;34m(\u001b[0m\u001b[0mu\u001b[0m\u001b[0;34m,\u001b[0m \u001b[0mv\u001b[0m\u001b[0;34m,\u001b[0m \u001b[0md\u001b[0m\u001b[0;34m)\u001b[0m \u001b[0;32mfor\u001b[0m \u001b[0mu\u001b[0m\u001b[0;34m,\u001b[0m \u001b[0mv\u001b[0m\u001b[0;34m,\u001b[0m \u001b[0md\u001b[0m \u001b[0;32min\u001b[0m \u001b[0mtriples\u001b[0m \u001b[0;32mif\u001b[0m \u001b[0mu\u001b[0m \u001b[0;34m<=\u001b[0m \u001b[0mv\u001b[0m\u001b[0;34m)\u001b[0m\u001b[0;34m\u001b[0m\u001b[0;34m\u001b[0m\u001b[0m\n\u001b[0;32m--> 610\u001b[0;31m     \u001b[0mG\u001b[0m\u001b[0;34m.\u001b[0m\u001b[0madd_edges_from\u001b[0m\u001b[0;34m(\u001b[0m\u001b[0mtriples\u001b[0m\u001b[0;34m)\u001b[0m\u001b[0;34m\u001b[0m\u001b[0;34m\u001b[0m\u001b[0m\n\u001b[0m\u001b[1;32m    611\u001b[0m     \u001b[0;32mreturn\u001b[0m \u001b[0mG\u001b[0m\u001b[0;34m\u001b[0m\u001b[0;34m\u001b[0m\u001b[0m\n\u001b[1;32m    612\u001b[0m \u001b[0;34m\u001b[0m\u001b[0m\n",
      "\u001b[0;32m/home/x11dpg-qt/Software/miniconda3/envs/sna/lib/python3.7/site-packages/networkx/classes/graph.py\u001b[0m in \u001b[0;36madd_edges_from\u001b[0;34m(self, ebunch_to_add, **attr)\u001b[0m\n\u001b[1;32m    930\u001b[0m         \u001b[0;34m>>\u001b[0m\u001b[0;34m>\u001b[0m \u001b[0mG\u001b[0m\u001b[0;34m.\u001b[0m\u001b[0madd_edges_from\u001b[0m\u001b[0;34m(\u001b[0m\u001b[0;34m[\u001b[0m\u001b[0;34m(\u001b[0m\u001b[0;36m3\u001b[0m\u001b[0;34m,\u001b[0m \u001b[0;36m4\u001b[0m\u001b[0;34m)\u001b[0m\u001b[0;34m,\u001b[0m \u001b[0;34m(\u001b[0m\u001b[0;36m1\u001b[0m\u001b[0;34m,\u001b[0m \u001b[0;36m4\u001b[0m\u001b[0;34m)\u001b[0m\u001b[0;34m]\u001b[0m\u001b[0;34m,\u001b[0m \u001b[0mlabel\u001b[0m\u001b[0;34m=\u001b[0m\u001b[0;34m'WN2898'\u001b[0m\u001b[0;34m)\u001b[0m\u001b[0;34m\u001b[0m\u001b[0;34m\u001b[0m\u001b[0m\n\u001b[1;32m    931\u001b[0m         \"\"\"\n\u001b[0;32m--> 932\u001b[0;31m         \u001b[0;32mfor\u001b[0m \u001b[0me\u001b[0m \u001b[0;32min\u001b[0m \u001b[0mebunch_to_add\u001b[0m\u001b[0;34m:\u001b[0m\u001b[0;34m\u001b[0m\u001b[0;34m\u001b[0m\u001b[0m\n\u001b[0m\u001b[1;32m    933\u001b[0m             \u001b[0mne\u001b[0m \u001b[0;34m=\u001b[0m \u001b[0mlen\u001b[0m\u001b[0;34m(\u001b[0m\u001b[0me\u001b[0m\u001b[0;34m)\u001b[0m\u001b[0;34m\u001b[0m\u001b[0;34m\u001b[0m\u001b[0m\n\u001b[1;32m    934\u001b[0m             \u001b[0;32mif\u001b[0m \u001b[0mne\u001b[0m \u001b[0;34m==\u001b[0m \u001b[0;36m3\u001b[0m\u001b[0;34m:\u001b[0m\u001b[0;34m\u001b[0m\u001b[0;34m\u001b[0m\u001b[0m\n",
      "\u001b[0;32m/home/x11dpg-qt/Software/miniconda3/envs/sna/lib/python3.7/site-packages/networkx/convert_matrix.py\u001b[0m in \u001b[0;36m<genexpr>\u001b[0;34m(.0)\u001b[0m\n\u001b[1;32m    596\u001b[0m                         for (u, v) in edges)\n\u001b[1;32m    597\u001b[0m     \u001b[0;32melse\u001b[0m\u001b[0;34m:\u001b[0m  \u001b[0;31m# basic data type\u001b[0m\u001b[0;34m\u001b[0m\u001b[0;34m\u001b[0m\u001b[0m\n\u001b[0;32m--> 598\u001b[0;31m         triples = ((u, v, dict(weight=python_type(A[u, v])))\n\u001b[0m\u001b[1;32m    599\u001b[0m                    for u, v in edges)\n\u001b[1;32m    600\u001b[0m     \u001b[0;31m# If we are creating an undirected multigraph, only add the edges from the\u001b[0m\u001b[0;34m\u001b[0m\u001b[0;34m\u001b[0m\u001b[0;34m\u001b[0m\u001b[0m\n",
      "\u001b[0;31mKeyboardInterrupt\u001b[0m: "
     ]
    }
   ],
   "source": [
    "# Start your code here\n",
    "#\n",
    "# class community_colors():\n",
    "#     def fit():\n",
    "#     def predict():\n",
    "#     def fit_predict():\n",
    "# def get_comminity_color():\n",
    "# LFR_benchmark_graph\n",
    "S = np.load('../sim_matrix_q.npy')\n",
    "index = np.random.randint(low=0, high=S.shape[0], size=int(S.shape[0]/100))\n",
    "A = S>0.1\n",
    "print(A)\n",
    "# del S\n",
    "G = nx.from_numpy_matrix(A,create_using=None)\n",
    "del A\n",
    "G_layout = nx.spring_layout(G, k = 0.25)\n",
    "    \n",
    "#\n",
    "#"
   ]
  },
  {
   "cell_type": "code",
   "execution_count": null,
   "metadata": {},
   "outputs": [],
   "source": [
    "# Code from seminar\n",
    "# Louvain's community detection method\n",
    "def detect_communities_louvain(G):\n",
    "    partition = community_louvain.best_partition(G)\n",
    "    communities = list()\n",
    "    for com in set(partition.values()) :\n",
    "        list_nodes = [nodes for nodes in partition.keys() if partition[nodes] == com]\n",
    "        communities.append(sorted(list_nodes))\n",
    "    return sorted(communities)\n",
    "\n",
    "# Girvan Newman's community detection method\n",
    "def f_greedy_modularity_communities(G):\n",
    "    communities = greedy_modularity_communities(G)\n",
    "    return sorted(sorted(c) for c in next(communities))\n",
    "\n",
    "# Girvan Newman's community detection method\n",
    "def detect_communities_girvan_newman(G):\n",
    "    communities = girvan_newman(G)\n",
    "    return sorted(sorted(c) for c in list(communities))\n",
    "\n",
    "# Fast Greedy community detection method\n",
    "def detect_communities_greedy(G):\n",
    "    communities = f_greedy_modularity_communities(G)\n",
    "    return sorted(map(sorted, communities))\n",
    "\n",
    "# Label propagation community detection method\n",
    "def detect_communities_label_propagation(G):\n",
    "    communities = list()\n",
    "    #for c in asyn_lpa_communities(G):\n",
    "    for c in label_propagation_communities(G):\n",
    "        communities.append(sorted(c))\n",
    "    return sorted(communities)\n",
    "# Plot graph with communities, receives a list of communities, where each community is a list of nodes (ints)\n",
    "def show_communities(G, pos, communities, name='title'): \n",
    "    colors = ['b', 'g', 'r', 'c', 'm', 'y', 'k', 'w', 'b', 'g', 'r', 'c', 'm', 'y', 'k', 'w', 'b', 'g', 'r', 'c', 'm', 'y', 'k', 'w', 'b', 'g', 'r', 'c', 'm', 'y', 'k', 'w']\n",
    "    plt.figure(figsize=(25,20))\n",
    "    plt.title(name, fontsize=20)\n",
    "    aux = 0\n",
    "    print(\"Number of communities: \"+ str(len(communities)))\n",
    "    for community in communities:\n",
    "        nx.draw_networkx_nodes(G, pos, community, node_size = 50, node_color = colors[aux])\n",
    "        aux = aux + 1\n",
    "    nx.draw_networkx_edges(G, pos, alpha=0.5)\n",
    "    plt.show(block=True)\n",
    "methodNames = [\n",
    "    'Louvain',\n",
    "    #'Girvan Newman',\n",
    "    'Fast Greedy',\n",
    "    'Label Propagation',\n",
    "    'Modularity'\n",
    "]\n",
    "\n",
    "methods = [\n",
    "    detect_communities_louvain,\n",
    "    detect_communities_girvan_newman,\n",
    "    detect_communities_greedy,\n",
    "    detect_communities_label_propagation,\n",
    "    greedy_modularity_communities\n",
    "]"
   ]
  },
  {
   "cell_type": "code",
   "execution_count": null,
   "metadata": {},
   "outputs": [],
   "source": [
    "for i in range(len(methods)):\n",
    "    result = methods[i](G)\n",
    "    show_communities(G, G_layout, result, name=methodNames[i])"
   ]
  },
  {
   "cell_type": "code",
   "execution_count": null,
   "metadata": {},
   "outputs": [],
   "source": [
    "# 2.2\n",
    "from sklearn.cluster import AgglomerativeClustering\n",
    "from sklearn.cluster import SpectralClustering\n",
    "sc = SpectralClustering(n_clusters=200, affinity='precompute', n_init=10)\n",
    "labels = sc.fit_predict(S)"
   ]
  },
  {
   "cell_type": "code",
   "execution_count": null,
   "metadata": {},
   "outputs": [],
   "source": [
    "colors = ['b', 'g', 'r', 'c', 'm', 'y', 'k', 'w', 'b', 'g', 'r', 'c', 'm', 'y', 'k', 'w', 'b', 'g', 'r', 'c', 'm', 'y', 'k', 'w', 'b', 'g', 'r', 'c', 'm', 'y', 'k', 'w']\n",
    "plt.figure(figsize=(25,20))\n",
    "plt.title(\"Spectral Clustering\", fontsize=20)\n",
    "nx.draw_networkx_nodes(G, G_layout, node_size = 50, node_color = labels)\n",
    "nx.draw_networkx_edges(G, G_layout, alpha=0.5)\n",
    "#nx.draw_networkx(G, G_layout, node_size = 350, node_color=labels)"
   ]
  },
  {
   "cell_type": "code",
   "execution_count": null,
   "metadata": {},
   "outputs": [],
   "source": [
    "ac = AgglomerativeClustering(n_clusters=20, affinity='precompute', linkage = \"ward\")\n",
    "labels = ac.fit_predict(S)\n",
    "colors = ['b', 'g', 'r', 'c', 'm', 'y', 'k', 'w', 'b', 'g', 'r', 'c', 'm', 'y', 'k', 'w', 'b', 'g', 'r', 'c', 'm', 'y', 'k', 'w', 'b', 'g', 'r', 'c', 'm', 'y', 'k', 'w']\n",
    "plt.figure(figsize=(25,20))\n",
    "plt.title(\"Agglomerative Clustering\", fontsize=20)\n",
    "nx.draw_networkx_nodes(G, G_layout, node_size = 50, node_color = labels)\n",
    "nx.draw_networkx_edges(G, G_layout, alpha=0.5)\n",
    "#nx.draw_networkx(G, G_layout, node_size = 350, node_color=labels)"
   ]
  }
 ],
 "metadata": {
  "kernelspec": {
   "display_name": "Python 3",
   "language": "python",
   "name": "python3"
  },
  "language_info": {
   "codemirror_mode": {
    "name": "ipython",
    "version": 3
   },
   "file_extension": ".py",
   "mimetype": "text/x-python",
   "name": "python",
   "nbconvert_exporter": "python",
   "pygments_lexer": "ipython3",
   "version": "3.7.7"
  }
 },
 "nbformat": 4,
 "nbformat_minor": 4
}
